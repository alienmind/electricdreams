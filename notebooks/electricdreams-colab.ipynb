{
  "cells": [
    {
      "cell_type": "markdown",
      "metadata": {
        "colab_type": "text",
        "id": "view-in-github"
      },
      "source": [
        "<a href=\"https://colab.research.google.com/github/alienmind/electricdreams/blob/main/electricdreams_colab.ipynb\" target=\"_parent\"><img src=\"https://colab.research.google.com/assets/colab-badge.svg\" alt=\"Open In Colab\"/></a>"
      ]
    },
    {
      "cell_type": "code",
      "execution_count": 2,
      "metadata": {
        "colab": {
          "base_uri": "https://localhost:8080/"
        },
        "id": "hTC-h7BQ2z8L",
        "outputId": "65a2e161-7d9c-4814-9d6f-4e49ef7a80cf"
      },
      "outputs": [
        {
          "name": "stdout",
          "output_type": "stream",
          "text": [
            "Mounted at /content/drive\n"
          ]
        }
      ],
      "source": [
        "ROOT_DIR = '/content/drive/My Drive/ElectricDreams/'\n",
        "\n",
        "### Open Google Drive and pick up electric.env\n",
        "from google.colab import drive\n",
        "drive.mount('/content/drive', force_remount=True)\n",
        "!mkdir ~/.config/electricdreams\n",
        "!cp -p '/content/drive/My Drive/ElectricDreams/config/electric.env'  ~/.config/electricdreams\n",
        "ROOT_DIR='/content/drive/My Drive/ElectricDreams/'"
      ]
    },
    {
      "cell_type": "code",
      "execution_count": 3,
      "metadata": {
        "colab": {
          "base_uri": "https://localhost:8080/"
        },
        "id": "_GskeA61JdQX",
        "outputId": "d30f94e3-7850-4296-e2dc-0d6e94040564"
      },
      "outputs": [
        {
          "name": "stdout",
          "output_type": "stream",
          "text": [
            "/content/drive/My Drive/ElectricDreams/\n"
          ]
        }
      ],
      "source": [
        "!echo \"$ROOT_DIR\""
      ]
    },
    {
      "cell_type": "code",
      "execution_count": 4,
      "metadata": {
        "colab": {
          "base_uri": "https://localhost:8080/"
        },
        "id": "8rNbX8kt3eWZ",
        "outputId": "9fd9d406-89ac-4bfb-a157-3174e2e67a60"
      },
      "outputs": [
        {
          "name": "stdout",
          "output_type": "stream",
          "text": [
            "'/content/drive/My Drive/ElectricDreams//.ssh/' -> '/root/.ssh/.ssh'\n",
            "Generating public/private rsa key pair.\n",
            "Enter file in which to save the key (/root/.ssh/id_rsa): /root/.ssh/id_rsa already exists.\n",
            "Overwrite (y/n)? '/root/.ssh/.ssh' -> '/content/drive/My Drive/ElectricDreams/.ssh/.ssh'\n",
            "'/root/.ssh/id_rsa' -> '/content/drive/My Drive/ElectricDreams/.ssh/id_rsa'\n",
            "'/root/.ssh/id_rsa.pub' -> '/content/drive/My Drive/ElectricDreams/.ssh/id_rsa.pub'\n"
          ]
        }
      ],
      "source": [
        "# Recover / generate RSA key\n",
        "!mkdir -p \"$ROOT_DIR/.ssh\"                # Will be created the first time\n",
        "!cp -pav \"$ROOT_DIR/.ssh/\" /root/.ssh/    # Any re-used keys will be picked over, if not just an empty dir\n",
        "!if [ ! -f \"$ROOT_DIR/.ssh/id_rsa.pub\" ]; then yes \"\" | ssh-keygen -t rsa ; fi  # If no keys were copied, let's generate one\n",
        "!cp -pav /root/.ssh/ \"$ROOT_DIR/\"           # Copy the new priv/pub keys back to drive\n",
        "\n",
        "# TODO - manually make sure this public key is imported into github\n",
        "#! cat /root/.ssh/id_rsa.pub\n"
      ]
    },
    {
      "cell_type": "code",
      "execution_count": 7,
      "metadata": {
        "colab": {
          "base_uri": "https://localhost:8080/"
        },
        "id": "DKfp3gtj2z8R",
        "outputId": "01f95c96-e55d-4004-ac38-c042aaef2406"
      },
      "outputs": [
        {
          "name": "stdout",
          "output_type": "stream",
          "text": [
            "Cloning into 'electricdreams'...\n",
            "Host key verification failed.\r\n",
            "fatal: Could not read from remote repository.\n",
            "\n",
            "Please make sure you have the correct access rights\n",
            "and the repository exists.\n"
          ]
        }
      ],
      "source": [
        "# Git clone the project\n",
        "!cd \"$ROOT_DIR\"\n",
        "!git clone git@github.com:alienmind/electricdreams.git"
      ]
    },
    {
      "cell_type": "code",
      "execution_count": 22,
      "metadata": {
        "colab": {
          "base_uri": "https://localhost:8080/"
        },
        "id": "FiYnyp8_KzRE",
        "outputId": "ff474a1b-3aee-42e3-f686-c2e7c223f368"
      },
      "outputs": [
        {
          "name": "stdout",
          "output_type": "stream",
          "text": [
            "# github.com:22 SSH-2.0-babeld-cd305013\n",
            "# github.com:22 SSH-2.0-babeld-cd305013\n",
            "# github.com:22 SSH-2.0-babeld-cd305013\n"
          ]
        }
      ],
      "source": [
        "!ssh-keyscan github.com >> /root/.ssh/known_hosts\n"
      ]
    },
    {
      "cell_type": "code",
      "execution_count": 23,
      "metadata": {
        "colab": {
          "base_uri": "https://localhost:8080/"
        },
        "id": "uguFezboKeNT",
        "outputId": "9f098cf0-96ca-4138-ef31-57b7aea2fee3"
      },
      "outputs": [
        {
          "name": "stdout",
          "output_type": "stream",
          "text": [
            "Cloning into 'electricdreams'...\n",
            "Warning: Permanently added the ECDSA host key for IP address '140.82.112.3' to the list of known hosts.\n",
            "remote: Enumerating objects: 27, done.\u001b[K\n",
            "remote: Counting objects: 100% (27/27), done.\u001b[K\n",
            "remote: Compressing objects: 100% (22/22), done.\u001b[K\n",
            "remote: Total 27 (delta 1), reused 24 (delta 1), pack-reused 0\u001b[K\n",
            "Receiving objects: 100% (27/27), 3.62 MiB | 33.07 MiB/s, done.\n",
            "Resolving deltas: 100% (1/1), done.\n"
          ]
        }
      ],
      "source": [
        "!git clone git@github.com:alienmind/electricdreams.git"
      ]
    },
    {
      "cell_type": "code",
      "execution_count": null,
      "metadata": {},
      "outputs": [],
      "source": [
        "### CLoudflared Tunnel\n",
        "!pip install colab_ssh --upgrade\n",
        "from colab_ssh import launch_ssh_cloudflared, init_git_cloudflared\n",
        "launch_ssh_cloudflared(password=\"s1thCL0l0rd\")"
      ]
    },
    {
      "cell_type": "code",
      "execution_count": null,
      "metadata": {},
      "outputs": [],
      "source": [
        "# How to prevent Colab to be closed\n",
        "# https://medium.com/@shivamrawat_756/how-to-prevent-google-colab-from-disconnecting-717b88a128c0\n",
        "# Ctrl-Shift-I -> Console\n",
        "# \n",
        "#function ClickConnect(){\n",
        "#console.log(\"Working\"); \n",
        "#document.querySelector(\"colab-toolbar-button#connect\").click() \n",
        "#}\n",
        "#setInterval(ClickConnect,60000)"
      ]
    },
    {
      "cell_type": "code",
      "execution_count": null,
      "metadata": {},
      "outputs": [],
      "source": [
        "\n",
        "with open(\"requirements.txt\",\"w\") as f:\n",
        "  f.write(\"\"\"\n",
        "accelerate==0.15.0\n",
        "diffusers==0.8.0\n",
        "fastapi==0.88.0\n",
        "ftfy==6.1.1\n",
        "huggingface-hub==0.11.1\n",
        "nvidia-cublas-cu11==11.10.3.66\n",
        "nvidia-cuda-nvrtc-cu11==11.7.99\n",
        "nvidia-cuda-runtime-cu11==11.7.99\n",
        "nvidia-cudnn-cu11==8.5.0.96\n",
        "openai==0.25.0\n",
        "torch==1.13.0\n",
        "tox==3.27.1\n",
        "tqdm==4.64.1\n",
        "transformers==4.25.1\n",
        "uvicorn==0.20.0\n",
        "python-dotenv\n",
        "argparse>=1.4.0\n",
        "scipy<2.0.0,>=1.9.3\n",
        "\"\"\")\n",
        "!pip install -q -r requirements.txt"
      ]
    },
    {
      "cell_type": "code",
      "execution_count": 2,
      "metadata": {},
      "outputs": [
        {
          "name": "stdout",
          "output_type": "stream",
          "text": [
            "Looking in indexes: https://test.pypi.org/simple/\n",
            "Collecting electricdreams==0.0.4a\n",
            "  Downloading https://test-files.pythonhosted.org/packages/c3/3e/9adcd4478fa581801b10e52b2aebbf5d7c310035956e8ccb897ebb82d359/electricdreams-0.0.4a0-py3-none-any.whl (121 kB)\n",
            "\u001b[2K     \u001b[90m━━━━━━━━━━━━━━━━━━━━━━━━━━━━━━━━━━━━━━\u001b[0m \u001b[32m121.4/121.4 kB\u001b[0m \u001b[31m12.6 MB/s\u001b[0m eta \u001b[36m0:00:00\u001b[0m\n",
            "\u001b[?25h\u001b[31mERROR: Could not find a version that satisfies the requirement python-dotenv<0.22.0,>=0.21.0 (from electricdreams) (from versions: 0.10.2, 0.10.2.post1, 0.10.2.post2)\u001b[0m\u001b[31m\n",
            "\u001b[0m\u001b[31mERROR: No matching distribution found for python-dotenv<0.22.0,>=0.21.0\u001b[0m\u001b[31m\n",
            "\u001b[0m"
          ]
        }
      ],
      "source": [
        "!pip install -i https://test.pypi.org/simple/ electricdreams==0.0.4a --no-cache-dir"
      ]
    },
    {
      "cell_type": "code",
      "execution_count": 1,
      "metadata": {},
      "outputs": [
        {
          "ename": "ModuleNotFoundError",
          "evalue": "No module named 'electricdreams'",
          "output_type": "error",
          "traceback": [
            "\u001b[0;31m---------------------------------------------------------------------------\u001b[0m",
            "\u001b[0;31mModuleNotFoundError\u001b[0m                       Traceback (most recent call last)",
            "Cell \u001b[0;32mIn [1], line 1\u001b[0m\n\u001b[0;32m----> 1\u001b[0m \u001b[39mimport\u001b[39;00m \u001b[39melectricdreams\u001b[39;00m\u001b[39m.\u001b[39;00m\u001b[39madventure\u001b[39;00m \u001b[39mas\u001b[39;00m \u001b[39mad\u001b[39;00m\n\u001b[1;32m      2\u001b[0m ad\u001b[39m.\u001b[39mmain()\n",
            "\u001b[0;31mModuleNotFoundError\u001b[0m: No module named 'electricdreams'"
          ]
        }
      ],
      "source": [
        "import electricdreams.adventure as ad\n",
        "ad.main()"
      ]
    }
  ],
  "metadata": {
    "colab": {
      "include_colab_link": true,
      "provenance": []
    },
    "kernelspec": {
      "display_name": "Python 3",
      "language": "python",
      "name": "python3"
    },
    "language_info": {
      "codemirror_mode": {
        "name": "ipython",
        "version": 3
      },
      "file_extension": ".py",
      "mimetype": "text/x-python",
      "name": "python",
      "nbconvert_exporter": "python",
      "pygments_lexer": "ipython3",
      "version": "3.8.13"
    },
    "orig_nbformat": 4,
    "vscode": {
      "interpreter": {
        "hash": "9ac03a0a6051494cc606d484d27d20fce22fb7b4d169f583271e11d5ba46a56e"
      }
    }
  },
  "nbformat": 4,
  "nbformat_minor": 0
}
