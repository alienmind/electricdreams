{
  "cells": [
    {
      "cell_type": "markdown",
      "metadata": {
        "id": "view-in-github",
        "colab_type": "text"
      },
      "source": [
        "<a href=\"https://colab.research.google.com/gist/alienmind/f703fc1ef09fa638576c9f66ecb23a22/copia-de-electricdreams-colab.ipynb\" target=\"_parent\"><img src=\"https://colab.research.google.com/assets/colab-badge.svg\" alt=\"Open In Colab\"/></a>"
      ]
    },
    {
      "cell_type": "code",
      "execution_count": 20,
      "metadata": {
        "id": "hTC-h7BQ2z8L",
        "outputId": "83ac21d6-4665-4177-84d2-80605f43391e",
        "colab": {
          "base_uri": "https://localhost:8080/"
        }
      },
      "outputs": [
        {
          "output_type": "stream",
          "name": "stdout",
          "text": [
            "Mounted at /content/drive\n"
          ]
        }
      ],
      "source": [
        "### Open Google Drive and pick up electric.env\n",
        "from google.colab import drive\n",
        "drive.mount('/content/drive', force_remount=True)\n",
        "!mkdir ~/.config/electricdreams\n",
        "!cp -p '/content/drive/My Drive/ElectricDreams/config/electric.env'  ~/.config/electricdreams\n",
        "ROOT_DIR='/content/drive/My Drive/ElectricDreams/'\n",
        "!echo \"$ROOT_DIR\""
      ]
    },
    {
      "cell_type": "code",
      "source": [
        "#### Work with a git clone inside the Colab VM\n",
        "\n",
        "# Recover / generate RSA key\n",
        "!mkdir -p \"$ROOT_DIR/.ssh\"                # Will be created the first time\n",
        "!cp -pav \"$ROOT_DIR/.ssh/\" /root/.ssh/    # Any re-used keys will be picked over, if not just an empty dir\n",
        "!if [ ! -f \"$ROOT_DIR/.ssh/id_rsa.pub\" ]; then yes \"\" | ssh-keygen -t rsa ; fi  # If no keys were copied, let's generate one\n",
        "!cp -pav /root/.ssh/ \"$ROOT_DIR/\"           # Copy the new priv/pub keys back to drive\n",
        "\n",
        "# TODO - manually make sure this public key is imported into github\n",
        "#! cat /root/.ssh/id_rsa.pub\n"
      ],
      "metadata": {
        "id": "8rNbX8kt3eWZ",
        "colab": {
          "base_uri": "https://localhost:8080/"
        },
        "outputId": "9fd9d406-89ac-4bfb-a157-3174e2e67a60"
      },
      "execution_count": null,
      "outputs": [
        {
          "output_type": "stream",
          "name": "stdout",
          "text": [
            "'/content/drive/My Drive/ElectricDreams//.ssh/' -> '/root/.ssh/.ssh'\n",
            "Generating public/private rsa key pair.\n",
            "Enter file in which to save the key (/root/.ssh/id_rsa): /root/.ssh/id_rsa already exists.\n",
            "Overwrite (y/n)? '/root/.ssh/.ssh' -> '/content/drive/My Drive/ElectricDreams/.ssh/.ssh'\n",
            "'/root/.ssh/id_rsa' -> '/content/drive/My Drive/ElectricDreams/.ssh/id_rsa'\n",
            "'/root/.ssh/id_rsa.pub' -> '/content/drive/My Drive/ElectricDreams/.ssh/id_rsa.pub'\n"
          ]
        }
      ]
    },
    {
      "cell_type": "code",
      "source": [
        "!ssh-keyscan github.com >> /root/.ssh/known_hosts\n"
      ],
      "metadata": {
        "colab": {
          "base_uri": "https://localhost:8080/"
        },
        "id": "FiYnyp8_KzRE",
        "outputId": "ff474a1b-3aee-42e3-f686-c2e7c223f368"
      },
      "execution_count": null,
      "outputs": [
        {
          "output_type": "stream",
          "name": "stdout",
          "text": [
            "# github.com:22 SSH-2.0-babeld-cd305013\n",
            "# github.com:22 SSH-2.0-babeld-cd305013\n",
            "# github.com:22 SSH-2.0-babeld-cd305013\n"
          ]
        }
      ]
    },
    {
      "cell_type": "code",
      "execution_count": null,
      "metadata": {
        "id": "DKfp3gtj2z8R",
        "outputId": "01f95c96-e55d-4004-ac38-c042aaef2406",
        "colab": {
          "base_uri": "https://localhost:8080/"
        }
      },
      "outputs": [
        {
          "output_type": "stream",
          "name": "stdout",
          "text": [
            "Cloning into 'electricdreams'...\n",
            "Host key verification failed.\r\n",
            "fatal: Could not read from remote repository.\n",
            "\n",
            "Please make sure you have the correct access rights\n",
            "and the repository exists.\n"
          ]
        }
      ],
      "source": [
        "# Git clone the project\n",
        "!cd \"$ROOT_DIR\"\n",
        "!git clone git@github.com:alienmind/electricdreams.git"
      ]
    },
    {
      "cell_type": "code",
      "source": [
        "### CLoudflared Tunnel - to open up SSH in case of remote dev\n",
        "!pip install colab_ssh --upgrade\n",
        "from colab_ssh import launch_ssh_cloudflared, init_git_cloudflared\n",
        "launch_ssh_cloudflared(password=\"s1thCL0l0rd\")"
      ],
      "metadata": {
        "colab": {
          "base_uri": "https://localhost:8080/",
          "height": 307
        },
        "id": "hAxkC_ZtIrQn",
        "outputId": "5b7f2c77-d1b1-4c50-b752-d1eaed7cb753"
      },
      "execution_count": null,
      "outputs": [
        {
          "output_type": "stream",
          "name": "stdout",
          "text": [
            "Looking in indexes: https://pypi.org/simple, https://us-python.pkg.dev/colab-wheels/public/simple/\n",
            "Collecting colab_ssh\n",
            "  Downloading colab_ssh-0.3.27-py3-none-any.whl (26 kB)\n",
            "Installing collected packages: colab-ssh\n",
            "Successfully installed colab-ssh-0.3.27\n"
          ]
        },
        {
          "output_type": "display_data",
          "data": {
            "text/plain": [
              "<IPython.core.display.HTML object>"
            ],
            "text/html": [
              "<style>\n",
              "*{\n",
              "\toutline:none;\n",
              "}\n",
              "code{\n",
              "\tdisplay:inline-block;\n",
              "\tpadding:5px 10px;\n",
              "\tbackground: #444;\n",
              "\tborder-radius: 4px;\n",
              "\twhite-space: pre-wrap;\n",
              "\tposition:relative;\n",
              "\tcolor:white;\n",
              "}\n",
              ".copy-code-button{\n",
              "\tfloat:right;\n",
              "\tbackground:#333;\n",
              "\tcolor:white;\n",
              "\tborder: none;\n",
              "\tmargin: 0 0 0 10px;\n",
              "\tcursor: pointer;\n",
              "}\n",
              "p, li{\n",
              "\tmax-width:700px;\n",
              "}\n",
              ".choices{\n",
              "\tdisplay:flex;\n",
              "\tflex: 1 0 auto;\n",
              "}\n",
              ".choice-section{\n",
              "\tborder:solid 1px #555;\n",
              "\tborder-radius: 4px;\n",
              "\tmin-width:300px;\n",
              "\tmargin: 10px 15px 0 0;\n",
              "\tpadding: 0 15px 15px 15px ;\n",
              "}\n",
              ".button{\n",
              "\tpadding: 10px 15px;\n",
              "\tbackground:#333;\n",
              "\tborder-radius: 4px;\n",
              "\tborder:solid 1px #555;\n",
              "\tcolor:white;\n",
              "\tfont-weight:bold;\n",
              "\tcursor:pointer;\n",
              "}\n",
              ".pill{\n",
              "\tpadding:2px 4px;\n",
              "\tborder-radius: 100px;\n",
              "\tbackground-color:#e65858;\n",
              "\tfont-size:12px;\n",
              "\tfont-weight:bold;\n",
              "\tmargin: 0 15px;\n",
              "\tcolor:white;\n",
              "}\n",
              "</style>\n",
              "<details class=\"choice-section\">\n",
              "\t<summary style=\"cursor:pointer\">\n",
              "\t\t<h3 style=\"display:inline-block;margin-top:15px\">⚙️ Client machine configuration<span class=\"pill\">Required</span></h3>\n",
              "\t</summary>\n",
              "\t<p>Don't worry, you only have to do this <b>once per client machine</b>.</p>\n",
              "\t<ol>\n",
              "\t\t<li>Download <a href=\"https://developers.cloudflare.com/argo-tunnel/getting-started/installation\">Cloudflared (Argo Tunnel)</a>, then copy the absolute path of the cloudflare binary</li>\n",
              "\t\t<li>Now, you have to append the following to your SSH config file (usually under ~/.ssh/config), and make sure you replace the placeholder with the path you copied in Step 1:</li>\n",
              "\t</ol>\n",
              "\t<code>Host *.trycloudflare.com\n",
              "\tHostName %h\n",
              "\tUser root\n",
              "\tPort 22\n",
              "\tProxyCommand &ltPUT_THE_ABSOLUTE_CLOUDFLARE_PATH_HERE&gt access ssh --hostname %h\n",
              "\t</code>\n",
              "</details>\n",
              "<div class=\"choices\">\n",
              "\t<div class=\"choice-section\">\n",
              "\t\t<h4>SSH Terminal</h4>\n",
              "\t\t<p>To connect using your terminal, type this command:</p>\n",
              "\t\t<code>ssh technologies-dangerous-bufing-commander.trycloudflare.com</code>\n",
              "\t</div>\n",
              "\t<div class=\"choice-section\">\n",
              "\t\t<h4>VSCode Remote SSH</h4>\n",
              "\t\t<p>You can also connect with VSCode Remote SSH (Ctrl+Shift+P and type \"Connect to Host...\"). Then, paste the following hostname in the opened command palette:</p>\n",
              "\t\t<code>technologies-dangerous-bufing-commander.trycloudflare.com</code>\n",
              "\t</div>\n",
              "</div>\n",
              "\n",
              "<script>\n",
              "// Copy any string\n",
              "function fallbackCopyTextToClipboard(text) {\n",
              "  var textArea = document.createElement(\"textarea\");\n",
              "  textArea.value = text;\n",
              "  \n",
              "  // Avoid scrolling to bottom\n",
              "  textArea.style.top = \"0\";\n",
              "  textArea.style.left = \"0\";\n",
              "  textArea.style.position = \"fixed\";\n",
              "\n",
              "  document.body.appendChild(textArea);\n",
              "  textArea.focus();\n",
              "  textArea.select();\n",
              "\n",
              "  try {\n",
              "    var successful = document.execCommand('copy');\n",
              "    var msg = successful ? 'successful' : 'unsuccessful';\n",
              "    console.log('Fallback: Copying text command was ' + msg);\n",
              "  } catch (err) {\n",
              "    console.error('Fallback: Oops, unable to copy', err);\n",
              "  }\n",
              "\n",
              "  document.body.removeChild(textArea);\n",
              "}\n",
              "\n",
              "// Show the copy button with every code tag\n",
              "document.querySelectorAll('code').forEach(function (codeBlock) {\n",
              "\tconst codeToCopy= codeBlock.innerText;\n",
              "\tvar pre = document.createElement('pre');\n",
              "\tpre.innerText = codeToCopy;\n",
              "    var button = document.createElement('button');\n",
              "    button.className = 'copy-code-button';\n",
              "    button.type = 'button';\n",
              "    button.innerText = 'Copy';\n",
              "\tbutton.onclick = function(){\n",
              "\t\tfallbackCopyTextToClipboard(codeToCopy);\n",
              "\t\tbutton.innerText = 'Copied'\n",
              "\t\tsetTimeout(()=>{\n",
              "\t\t\tbutton.innerText = 'Copy'\n",
              "\t\t},2000)\n",
              "\t}\n",
              "\tcodeBlock.children = pre;\n",
              "\tcodeBlock.prepend(button)\n",
              "});\n",
              "</script>\n"
            ]
          },
          "metadata": {}
        }
      ]
    },
    {
      "cell_type": "code",
      "source": [
        "# How to prevent Colab to be closed - type this in the JS console\n",
        "#\n",
        "# https://medium.com/@shivamrawat_756/how-to-prevent-google-colab-from-disconnecting-717b88a128c0\n",
        "# Ctrl-Shift-I -> Console\n",
        "# \n",
        "#function ClickConnect(){\n",
        "#console.log(\"Working\"); \n",
        "#document.querySelector(\"colab-toolbar-button#connect\").click() \n",
        "#}\n",
        "#setInterval(ClickConnect,60000)"
      ],
      "metadata": {
        "colab": {
          "base_uri": "https://localhost:8080/"
        },
        "id": "_ACoQHtwLZDb",
        "outputId": "afd321da-927b-416c-f59a-477830e8abda"
      },
      "execution_count": null,
      "outputs": [
        {
          "output_type": "stream",
          "name": "stdout",
          "text": [
            "^C\n"
          ]
        }
      ]
    },
    {
      "cell_type": "code",
      "source": [
        "### Electric Dreams requirements\n",
        "with open(\"requirements.txt\",\"w\") as f:\n",
        "  f.write(\"\"\"\n",
        "accelerate==0.15.0\n",
        "diffusers==0.8.0\n",
        "fastapi==0.88.0\n",
        "ftfy==6.1.1\n",
        "huggingface-hub==0.11.1\n",
        "nvidia-cublas-cu11==11.10.3.66\n",
        "nvidia-cuda-nvrtc-cu11==11.7.99\n",
        "nvidia-cuda-runtime-cu11==11.7.99\n",
        "nvidia-cudnn-cu11==8.5.0.96\n",
        "openai==0.25.0\n",
        "torch==1.13.0\n",
        "tox==3.27.1\n",
        "tqdm==4.64.1\n",
        "transformers==4.25.1\n",
        "uvicorn==0.20.0\n",
        "python-dotenv\n",
        "argparse>=1.4.0\n",
        "scipy<2.0.0,>=1.9.3\n",
        "Pillow==9.0.0\n",
        "\"\"\")\n",
        "!pip install -q -r requirements.txt"
      ],
      "metadata": {
        "id": "ZBQwL4OMrXFw"
      },
      "execution_count": 16,
      "outputs": []
    },
    {
      "cell_type": "code",
      "source": [
        "# Install latest ED from test.pypi\n",
        "!pip install -i https://test.pypi.org/simple/ electricdreams==0.0.5 --no-cache-dir"
      ],
      "metadata": {
        "colab": {
          "base_uri": "https://localhost:8080/"
        },
        "id": "tizK5Oq0rUhB",
        "outputId": "67329da1-06a9-485a-a471-c0fadf0a3eb1"
      },
      "execution_count": 18,
      "outputs": [
        {
          "output_type": "stream",
          "name": "stdout",
          "text": [
            "Looking in indexes: https://test.pypi.org/simple/, https://us-python.pkg.dev/colab-wheels/public/simple/\n",
            "Requirement already satisfied: electricdreams==0.0.5 in /usr/local/lib/python3.8/dist-packages (0.0.5)\n",
            "Requirement already satisfied: openai<0.26.0,>=0.25.0 in /usr/local/lib/python3.8/dist-packages (from electricdreams==0.0.5) (0.25.0)\n",
            "Requirement already satisfied: diffusers==0.8.0 in /usr/local/lib/python3.8/dist-packages (from electricdreams==0.0.5) (0.8.0)\n",
            "Requirement already satisfied: ftfy<7.0.0,>=6.1.1 in /usr/local/lib/python3.8/dist-packages (from electricdreams==0.0.5) (6.1.1)\n",
            "Requirement already satisfied: scipy<2.0.0,>=1.9.3 in /usr/local/lib/python3.8/dist-packages (from electricdreams==0.0.5) (1.9.3)\n",
            "Requirement already satisfied: torch<2.0.0,>=1.13.0 in /usr/local/lib/python3.8/dist-packages (from electricdreams==0.0.5) (1.13.0+cu116)\n",
            "Requirement already satisfied: fastapi<0.89.0,>=0.88.0 in /usr/local/lib/python3.8/dist-packages (from electricdreams==0.0.5) (0.88.0)\n",
            "Requirement already satisfied: Pillow<10.0.0,>=9.0.0 in /usr/local/lib/python3.8/dist-packages (from electricdreams==0.0.5) (9.0.0)\n",
            "Requirement already satisfied: python-dotenv<0.22.0,>=0.21.0 in /usr/local/lib/python3.8/dist-packages (from electricdreams==0.0.5) (0.21.0)\n",
            "Requirement already satisfied: accelerate<0.16.0,>=0.15.0 in /usr/local/lib/python3.8/dist-packages (from electricdreams==0.0.5) (0.15.0)\n",
            "Requirement already satisfied: uvicorn<0.21.0,>=0.20.0 in /usr/local/lib/python3.8/dist-packages (from electricdreams==0.0.5) (0.20.0)\n",
            "Requirement already satisfied: transformers<5.0.0,>=4.25.1 in /usr/local/lib/python3.8/dist-packages (from electricdreams==0.0.5) (4.25.1)\n",
            "Requirement already satisfied: huggingface-hub>=0.10.0 in /usr/local/lib/python3.8/dist-packages (from diffusers==0.8.0->electricdreams==0.0.5) (0.11.1)\n",
            "Requirement already satisfied: regex!=2019.12.17 in /usr/local/lib/python3.8/dist-packages (from diffusers==0.8.0->electricdreams==0.0.5) (2022.6.2)\n",
            "Requirement already satisfied: importlib-metadata in /usr/local/lib/python3.8/dist-packages (from diffusers==0.8.0->electricdreams==0.0.5) (4.13.0)\n",
            "Requirement already satisfied: numpy in /usr/local/lib/python3.8/dist-packages (from diffusers==0.8.0->electricdreams==0.0.5) (1.21.6)\n",
            "Requirement already satisfied: requests in /usr/local/lib/python3.8/dist-packages (from diffusers==0.8.0->electricdreams==0.0.5) (2.23.0)\n",
            "Requirement already satisfied: filelock in /usr/local/lib/python3.8/dist-packages (from diffusers==0.8.0->electricdreams==0.0.5) (3.8.0)\n",
            "Requirement already satisfied: psutil in /usr/local/lib/python3.8/dist-packages (from accelerate<0.16.0,>=0.15.0->electricdreams==0.0.5) (5.4.8)\n",
            "Requirement already satisfied: packaging>=20.0 in /usr/local/lib/python3.8/dist-packages (from accelerate<0.16.0,>=0.15.0->electricdreams==0.0.5) (21.3)\n",
            "Requirement already satisfied: pyyaml in /usr/local/lib/python3.8/dist-packages (from accelerate<0.16.0,>=0.15.0->electricdreams==0.0.5) (6.0)\n",
            "Requirement already satisfied: starlette==0.22.0 in /usr/local/lib/python3.8/dist-packages (from fastapi<0.89.0,>=0.88.0->electricdreams==0.0.5) (0.22.0)\n",
            "Requirement already satisfied: pydantic!=1.7,!=1.7.1,!=1.7.2,!=1.7.3,!=1.8,!=1.8.1,<2.0.0,>=1.6.2 in /usr/local/lib/python3.8/dist-packages (from fastapi<0.89.0,>=0.88.0->electricdreams==0.0.5) (1.10.2)\n",
            "Requirement already satisfied: anyio<5,>=3.4.0 in /usr/local/lib/python3.8/dist-packages (from starlette==0.22.0->fastapi<0.89.0,>=0.88.0->electricdreams==0.0.5) (3.6.2)\n",
            "Requirement already satisfied: typing-extensions>=3.10.0 in /usr/local/lib/python3.8/dist-packages (from starlette==0.22.0->fastapi<0.89.0,>=0.88.0->electricdreams==0.0.5) (4.4.0)\n",
            "Requirement already satisfied: sniffio>=1.1 in /usr/local/lib/python3.8/dist-packages (from anyio<5,>=3.4.0->starlette==0.22.0->fastapi<0.89.0,>=0.88.0->electricdreams==0.0.5) (1.3.0)\n",
            "Requirement already satisfied: idna>=2.8 in /usr/local/lib/python3.8/dist-packages (from anyio<5,>=3.4.0->starlette==0.22.0->fastapi<0.89.0,>=0.88.0->electricdreams==0.0.5) (2.10)\n",
            "Requirement already satisfied: wcwidth>=0.2.5 in /usr/local/lib/python3.8/dist-packages (from ftfy<7.0.0,>=6.1.1->electricdreams==0.0.5) (0.2.5)\n",
            "Requirement already satisfied: tqdm in /usr/local/lib/python3.8/dist-packages (from huggingface-hub>=0.10.0->diffusers==0.8.0->electricdreams==0.0.5) (4.64.1)\n",
            "Requirement already satisfied: openpyxl>=3.0.7 in /usr/local/lib/python3.8/dist-packages (from openai<0.26.0,>=0.25.0->electricdreams==0.0.5) (3.0.10)\n",
            "Requirement already satisfied: pandas-stubs>=1.1.0.11 in /usr/local/lib/python3.8/dist-packages (from openai<0.26.0,>=0.25.0->electricdreams==0.0.5) (1.5.2.221124)\n",
            "Requirement already satisfied: pandas>=1.2.3 in /usr/local/lib/python3.8/dist-packages (from openai<0.26.0,>=0.25.0->electricdreams==0.0.5) (1.3.5)\n",
            "Requirement already satisfied: et-xmlfile in /usr/local/lib/python3.8/dist-packages (from openpyxl>=3.0.7->openai<0.26.0,>=0.25.0->electricdreams==0.0.5) (1.1.0)\n",
            "Requirement already satisfied: pyparsing!=3.0.5,>=2.0.2 in /usr/local/lib/python3.8/dist-packages (from packaging>=20.0->accelerate<0.16.0,>=0.15.0->electricdreams==0.0.5) (3.0.9)\n",
            "Requirement already satisfied: pytz>=2017.3 in /usr/local/lib/python3.8/dist-packages (from pandas>=1.2.3->openai<0.26.0,>=0.25.0->electricdreams==0.0.5) (2022.6)\n",
            "Requirement already satisfied: python-dateutil>=2.7.3 in /usr/local/lib/python3.8/dist-packages (from pandas>=1.2.3->openai<0.26.0,>=0.25.0->electricdreams==0.0.5) (2.8.2)\n",
            "Requirement already satisfied: types-pytz>=2022.1.1 in /usr/local/lib/python3.8/dist-packages (from pandas-stubs>=1.1.0.11->openai<0.26.0,>=0.25.0->electricdreams==0.0.5) (2022.6.0.1)\n",
            "Requirement already satisfied: six>=1.5 in /usr/local/lib/python3.8/dist-packages (from python-dateutil>=2.7.3->pandas>=1.2.3->openai<0.26.0,>=0.25.0->electricdreams==0.0.5) (1.15.0)\n",
            "Requirement already satisfied: certifi>=2017.4.17 in /usr/local/lib/python3.8/dist-packages (from requests->diffusers==0.8.0->electricdreams==0.0.5) (2022.9.24)\n",
            "Requirement already satisfied: urllib3!=1.25.0,!=1.25.1,<1.26,>=1.21.1 in /usr/local/lib/python3.8/dist-packages (from requests->diffusers==0.8.0->electricdreams==0.0.5) (1.24.3)\n",
            "Requirement already satisfied: chardet<4,>=3.0.2 in /usr/local/lib/python3.8/dist-packages (from requests->diffusers==0.8.0->electricdreams==0.0.5) (3.0.4)\n",
            "Requirement already satisfied: tokenizers!=0.11.3,<0.14,>=0.11.1 in /usr/local/lib/python3.8/dist-packages (from transformers<5.0.0,>=4.25.1->electricdreams==0.0.5) (0.13.2)\n",
            "Requirement already satisfied: click>=7.0 in /usr/local/lib/python3.8/dist-packages (from uvicorn<0.21.0,>=0.20.0->electricdreams==0.0.5) (7.1.2)\n",
            "Requirement already satisfied: h11>=0.8 in /usr/local/lib/python3.8/dist-packages (from uvicorn<0.21.0,>=0.20.0->electricdreams==0.0.5) (0.14.0)\n",
            "Requirement already satisfied: zipp>=0.5 in /usr/local/lib/python3.8/dist-packages (from importlib-metadata->diffusers==0.8.0->electricdreams==0.0.5) (3.11.0)\n"
          ]
        }
      ]
    },
    {
      "cell_type": "code",
      "source": [
        "# Run the adventure in pure shell\n",
        "import electricdreams.adventure as ad\n",
        "ad.main()"
      ],
      "metadata": {
        "colab": {
          "base_uri": "https://localhost:8080/"
        },
        "id": "qFdgOerfsSVq",
        "outputId": "4a471dbf-a04f-4ad2-948b-7b22d74729f3"
      },
      "execution_count": 21,
      "outputs": [
        {
          "name": "stdout",
          "output_type": "stream",
          "text": [
            "TO EXIT, TYPE: quit\n",
            "You awaken into a world of darkness. You find yourself in an alleyway, surrounded by neon signs that are reflective on the wet pavement. There is a clatter of robotics marching up and down the street, and the wind brings in a faint aroma of oil and ozone. A single flickering lightbulb hangs from the nearby rooftop. You are able to move left, right, forward and back. {Which way would you like to move?}\n",
            "Human: quit\n"
          ]
        }
      ]
    }
  ],
  "metadata": {
    "kernelspec": {
      "display_name": "venv",
      "language": "python",
      "name": "python3"
    },
    "language_info": {
      "codemirror_mode": {
        "name": "ipython",
        "version": 3
      },
      "file_extension": ".py",
      "mimetype": "text/x-python",
      "name": "python",
      "nbconvert_exporter": "python",
      "pygments_lexer": "ipython3",
      "version": "3.8.13"
    },
    "orig_nbformat": 4,
    "vscode": {
      "interpreter": {
        "hash": "2d93c91aacc53fb923ed671d608cdb8fa722f8206aa28b03e614608710130f0e"
      }
    },
    "colab": {
      "provenance": [],
      "include_colab_link": true
    },
    "gpuClass": "standard"
  },
  "nbformat": 4,
  "nbformat_minor": 0
}