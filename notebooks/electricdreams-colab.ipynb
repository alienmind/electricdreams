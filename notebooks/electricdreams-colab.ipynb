{
  "cells": [
    {
      "cell_type": "markdown",
      "metadata": {
        "id": "view-in-github",
        "colab_type": "text"
      },
      "source": [
        "<a href=\"https://colab.research.google.com/github/alienmind/electricdreams/blob/main/electricdreams_colab.ipynb\" target=\"_parent\"><img src=\"https://colab.research.google.com/assets/colab-badge.svg\" alt=\"Open In Colab\"/></a>"
      ]
    },
    {
      "cell_type": "code",
      "execution_count": 2,
      "metadata": {
        "id": "hTC-h7BQ2z8L",
        "outputId": "65a2e161-7d9c-4814-9d6f-4e49ef7a80cf",
        "colab": {
          "base_uri": "https://localhost:8080/"
        }
      },
      "outputs": [
        {
          "output_type": "stream",
          "name": "stdout",
          "text": [
            "Mounted at /content/drive\n"
          ]
        }
      ],
      "source": [
        "### Open Google Drive and set ROOT_DIR to the root of this project\n",
        "from google.colab import drive\n",
        "drive.mount('/content/drive', force_remount=True)\n",
        "ROOT_DIR = '/content/drive/My Drive/ElectricDreams/'"
      ]
    },
    {
      "cell_type": "code",
      "source": [
        "!echo \"$ROOT_DIR\""
      ],
      "metadata": {
        "colab": {
          "base_uri": "https://localhost:8080/"
        },
        "id": "_GskeA61JdQX",
        "outputId": "d30f94e3-7850-4296-e2dc-0d6e94040564"
      },
      "execution_count": 3,
      "outputs": [
        {
          "output_type": "stream",
          "name": "stdout",
          "text": [
            "/content/drive/My Drive/ElectricDreams/\n"
          ]
        }
      ]
    },
    {
      "cell_type": "code",
      "source": [
        "# Recover / generate RSA key\n",
        "!mkdir -p \"$ROOT_DIR/.ssh\"                # Will be created the first time\n",
        "!cp -pav \"$ROOT_DIR/.ssh/\" /root/.ssh/    # Any re-used keys will be picked over, if not just an empty dir\n",
        "!if [ ! -f \"$ROOT_DIR/.ssh/id_rsa.pub\" ]; then yes \"\" | ssh-keygen -t rsa ; fi  # If no keys were copied, let's generate one\n",
        "!cp -pav /root/.ssh/ \"$ROOT_DIR/\"           # Copy the new priv/pub keys back to drive\n",
        "\n",
        "# TODO - manually make sure this public key is imported into github\n",
        "#! cat /root/.ssh/id_rsa.pub\n"
      ],
      "metadata": {
        "id": "8rNbX8kt3eWZ",
        "colab": {
          "base_uri": "https://localhost:8080/"
        },
        "outputId": "9fd9d406-89ac-4bfb-a157-3174e2e67a60"
      },
      "execution_count": 4,
      "outputs": [
        {
          "output_type": "stream",
          "name": "stdout",
          "text": [
            "'/content/drive/My Drive/ElectricDreams//.ssh/' -> '/root/.ssh/.ssh'\n",
            "Generating public/private rsa key pair.\n",
            "Enter file in which to save the key (/root/.ssh/id_rsa): /root/.ssh/id_rsa already exists.\n",
            "Overwrite (y/n)? '/root/.ssh/.ssh' -> '/content/drive/My Drive/ElectricDreams/.ssh/.ssh'\n",
            "'/root/.ssh/id_rsa' -> '/content/drive/My Drive/ElectricDreams/.ssh/id_rsa'\n",
            "'/root/.ssh/id_rsa.pub' -> '/content/drive/My Drive/ElectricDreams/.ssh/id_rsa.pub'\n"
          ]
        }
      ]
    },
    {
      "cell_type": "code",
      "execution_count": 7,
      "metadata": {
        "id": "DKfp3gtj2z8R",
        "outputId": "01f95c96-e55d-4004-ac38-c042aaef2406",
        "colab": {
          "base_uri": "https://localhost:8080/"
        }
      },
      "outputs": [
        {
          "output_type": "stream",
          "name": "stdout",
          "text": [
            "Cloning into 'electricdreams'...\n",
            "Host key verification failed.\r\n",
            "fatal: Could not read from remote repository.\n",
            "\n",
            "Please make sure you have the correct access rights\n",
            "and the repository exists.\n"
          ]
        }
      ],
      "source": [
        "# Git clone the project\n",
        "!cd \"$ROOT_DIR\"\n",
        "!git clone git@github.com:alienmind/electricdreams.git"
      ]
    },
    {
      "cell_type": "code",
      "source": [
        "!ssh-keyscan github.com >> /root/.ssh/known_hosts\n"
      ],
      "metadata": {
        "colab": {
          "base_uri": "https://localhost:8080/"
        },
        "id": "FiYnyp8_KzRE",
        "outputId": "ff474a1b-3aee-42e3-f686-c2e7c223f368"
      },
      "execution_count": 22,
      "outputs": [
        {
          "output_type": "stream",
          "name": "stdout",
          "text": [
            "# github.com:22 SSH-2.0-babeld-cd305013\n",
            "# github.com:22 SSH-2.0-babeld-cd305013\n",
            "# github.com:22 SSH-2.0-babeld-cd305013\n"
          ]
        }
      ]
    },
    {
      "cell_type": "code",
      "source": [
        "!git clone git@github.com:alienmind/electricdreams.git"
      ],
      "metadata": {
        "colab": {
          "base_uri": "https://localhost:8080/"
        },
        "id": "uguFezboKeNT",
        "outputId": "9f098cf0-96ca-4138-ef31-57b7aea2fee3"
      },
      "execution_count": 23,
      "outputs": [
        {
          "output_type": "stream",
          "name": "stdout",
          "text": [
            "Cloning into 'electricdreams'...\n",
            "Warning: Permanently added the ECDSA host key for IP address '140.82.112.3' to the list of known hosts.\n",
            "remote: Enumerating objects: 27, done.\u001b[K\n",
            "remote: Counting objects: 100% (27/27), done.\u001b[K\n",
            "remote: Compressing objects: 100% (22/22), done.\u001b[K\n",
            "remote: Total 27 (delta 1), reused 24 (delta 1), pack-reused 0\u001b[K\n",
            "Receiving objects: 100% (27/27), 3.62 MiB | 33.07 MiB/s, done.\n",
            "Resolving deltas: 100% (1/1), done.\n"
          ]
        }
      ]
    }
  ],
  "metadata": {
    "kernelspec": {
      "display_name": "venv",
      "language": "python",
      "name": "python3"
    },
    "language_info": {
      "codemirror_mode": {
        "name": "ipython",
        "version": 3
      },
      "file_extension": ".py",
      "mimetype": "text/x-python",
      "name": "python",
      "nbconvert_exporter": "python",
      "pygments_lexer": "ipython3",
      "version": "3.8.13"
    },
    "orig_nbformat": 4,
    "vscode": {
      "interpreter": {
        "hash": "2d93c91aacc53fb923ed671d608cdb8fa722f8206aa28b03e614608710130f0e"
      }
    },
    "colab": {
      "provenance": [],
      "include_colab_link": true
    }
  },
  "nbformat": 4,
  "nbformat_minor": 0
}