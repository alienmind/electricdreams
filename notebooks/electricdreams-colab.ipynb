{
  "cells": [
    {
      "cell_type": "markdown",
      "metadata": {
        "id": "view-in-github",
        "colab_type": "text"
      },
      "source": [
        "<a href=\"https://colab.research.google.com/gist/alienmind/feb48742e700da55a47d733b993448e5/electricdreams-colab.ipynb\" target=\"_parent\"><img src=\"https://colab.research.google.com/assets/colab-badge.svg\" alt=\"Open In Colab\"/></a>"
      ]
    },
    {
      "cell_type": "code",
      "execution_count": null,
      "metadata": {
        "id": "hTC-h7BQ2z8L"
      },
      "outputs": [],
      "source": [
        "### Open Google Drive and pick up electric.env\n",
        "from google.colab import drive\n",
        "drive.mount('/content/drive', force_remount=True)\n",
        "!mkdir ~/.config/electricdreams\n",
        "!cp -p '/content/drive/My Drive/ElectricDreams/config/electric.env.txt'  ~/.config/electricdreams/electric.env\n",
        "ROOT_DIR='/content/drive/My Drive/ElectricDreams/'\n",
        "!echo \"$ROOT_DIR\""
      ]
    },
    {
      "cell_type": "code",
      "execution_count": null,
      "metadata": {
        "id": "ZBQwL4OMrXFw"
      },
      "outputs": [],
      "source": [
        "### Electric Dreams requirements - required while ed is in test-pypi and not production pypi\n",
        "with open(\"requirements.txt\",\"w\") as f:\n",
        "  f.write(\"\"\"\n",
        "accelerate==0.15.0\n",
        "diffusers==0.8.0\n",
        "fastapi==0.88.0\n",
        "ftfy==6.1.1\n",
        "huggingface-hub==0.11.1\n",
        "nvidia-cublas-cu11==11.10.3.66\n",
        "nvidia-cuda-nvrtc-cu11==11.7.99\n",
        "nvidia-cuda-runtime-cu11==11.7.99\n",
        "nvidia-cudnn-cu11==8.5.0.96\n",
        "openai==0.25.0\n",
        "torch==1.13.0\n",
        "tox==3.27.1\n",
        "tqdm==4.64.1\n",
        "transformers==4.25.1\n",
        "uvicorn==0.20.0\n",
        "python-dotenv\n",
        "argparse>=1.4.0\n",
        "scipy<2.0.0,>=1.9.3\n",
        "Pillow==9.3.0\n",
        "\"\"\")\n",
        "!pip install -q -r requirements.txt"
      ]
    },
    {
      "cell_type": "code",
      "execution_count": null,
      "metadata": {
        "id": "tizK5Oq0rUhB"
      },
      "outputs": [],
      "source": [
        "# Install latest ED from test.pypi\n",
        "!pip install -q -i https://test.pypi.org/simple/ electricdreams==0.0.6a3 --no-cache-dir"
      ]
    },
    {
      "cell_type": "code",
      "source": [
        "%reload_ext autoreload\n",
        "%autoreload"
      ],
      "metadata": {
        "id": "tLLcwPtJArp3"
      },
      "execution_count": 1,
      "outputs": []
    },
    {
      "cell_type": "code",
      "execution_count": null,
      "metadata": {
        "id": "qFdgOerfsSVq"
      },
      "outputs": [],
      "source": [
        "## Run the adventure in pure shell\n",
        "import electricdreams.adventure as ad\n",
        "#ad.main()\n",
        "\n",
        "## OR iterate in REPL mode with images\n",
        "# Create the chat session\n",
        "from IPython.display import HTML, Image, display\n",
        "import electricdreams.chatter as ec\n",
        "\n",
        "# Get default prompt\n",
        "prompt = ad.get_default_prompt()\n",
        "\n",
        "# Create the chat\n",
        "chat = ec.Chat(has_images=True, is_interactive=True, input_fn=input)\n",
        "\n",
        "# Run the chat iteratively\n",
        "for response in chat.chat(prompt):\n",
        "  display(Image(filename=response.image))\n",
        "  display(HTML(\"<pre>\"+response.text+\"</pre>\"))\n",
        "  if response.last_prompt == ec.Chat.COMMAND_QUIT:\n",
        "    print(\"... finishing!\")\n",
        "    break\n",
        "\n"
      ]
    }
  ],
  "metadata": {
    "colab": {
      "provenance": [],
      "include_colab_link": true
    },
    "gpuClass": "standard",
    "kernelspec": {
      "display_name": ".venv",
      "language": "python",
      "name": "python3"
    },
    "language_info": {
      "codemirror_mode": {
        "name": "ipython",
        "version": 3
      },
      "file_extension": ".py",
      "mimetype": "text/x-python",
      "name": "python",
      "nbconvert_exporter": "python",
      "pygments_lexer": "ipython3",
      "version": "3.8.13 (default, Oct  4 2022, 14:00:32) \n[GCC 9.4.0]"
    },
    "orig_nbformat": 4,
    "vscode": {
      "interpreter": {
        "hash": "bada0f49f475334233d4f7be98453b47ae2c6c58fcccb87167ad22eb1d7bdedb"
      }
    },
    "accelerator": "GPU"
  },
  "nbformat": 4,
  "nbformat_minor": 0
}
