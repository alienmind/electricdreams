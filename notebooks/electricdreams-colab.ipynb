{
  "cells": [
    {
      "cell_type": "markdown",
      "metadata": {
        "colab_type": "text",
        "id": "view-in-github"
      },
      "source": [
        "<a href=\"https://colab.research.google.com/gist/alienmind/f703fc1ef09fa638576c9f66ecb23a22/copia-de-electricdreams-colab.ipynb\" target=\"_parent\"><img src=\"https://colab.research.google.com/assets/colab-badge.svg\" alt=\"Open In Colab\"/></a>"
      ]
    },
    {
      "cell_type": "code",
      "execution_count": 20,
      "metadata": {
        "colab": {
          "base_uri": "https://localhost:8080/"
        },
        "id": "hTC-h7BQ2z8L",
        "outputId": "83ac21d6-4665-4177-84d2-80605f43391e"
      },
      "outputs": [
        {
          "name": "stdout",
          "output_type": "stream",
          "text": [
            "Mounted at /content/drive\n"
          ]
        }
      ],
      "source": [
        "### Open Google Drive and pick up electric.env\n",
        "from google.colab import drive\n",
        "drive.mount('/content/drive', force_remount=True)\n",
        "!mkdir ~/.config/electricdreams\n",
        "!cp -p '/content/drive/My Drive/ElectricDreams/config/electric.env'  ~/.config/electricdreams\n",
        "ROOT_DIR='/content/drive/My Drive/ElectricDreams/'\n",
        "!echo \"$ROOT_DIR\""
      ]
    },
    {
      "cell_type": "code",
      "execution_count": 16,
      "metadata": {
        "id": "ZBQwL4OMrXFw"
      },
      "outputs": [],
      "source": [
        "### Electric Dreams requirements\n",
        "with open(\"requirements.txt\",\"w\") as f:\n",
        "  f.write(\"\"\"\n",
        "accelerate==0.15.0\n",
        "diffusers==0.8.0\n",
        "fastapi==0.88.0\n",
        "ftfy==6.1.1\n",
        "huggingface-hub==0.11.1\n",
        "nvidia-cublas-cu11==11.10.3.66\n",
        "nvidia-cuda-nvrtc-cu11==11.7.99\n",
        "nvidia-cuda-runtime-cu11==11.7.99\n",
        "nvidia-cudnn-cu11==8.5.0.96\n",
        "openai==0.25.0\n",
        "torch==1.13.0\n",
        "tox==3.27.1\n",
        "tqdm==4.64.1\n",
        "transformers==4.25.1\n",
        "uvicorn==0.20.0\n",
        "python-dotenv\n",
        "argparse>=1.4.0\n",
        "scipy<2.0.0,>=1.9.3\n",
        "Pillow==9.0.0\n",
        "\"\"\")\n",
        "!pip install -q -r requirements.txt"
      ]
    },
    {
      "cell_type": "code",
      "execution_count": 18,
      "metadata": {
        "colab": {
          "base_uri": "https://localhost:8080/"
        },
        "id": "tizK5Oq0rUhB",
        "outputId": "67329da1-06a9-485a-a471-c0fadf0a3eb1"
      },
      "outputs": [
        {
          "name": "stdout",
          "output_type": "stream",
          "text": [
            "Looking in indexes: https://test.pypi.org/simple/, https://us-python.pkg.dev/colab-wheels/public/simple/\n",
            "Requirement already satisfied: electricdreams==0.0.5 in /usr/local/lib/python3.8/dist-packages (0.0.5)\n",
            "Requirement already satisfied: openai<0.26.0,>=0.25.0 in /usr/local/lib/python3.8/dist-packages (from electricdreams==0.0.5) (0.25.0)\n",
            "Requirement already satisfied: diffusers==0.8.0 in /usr/local/lib/python3.8/dist-packages (from electricdreams==0.0.5) (0.8.0)\n",
            "Requirement already satisfied: ftfy<7.0.0,>=6.1.1 in /usr/local/lib/python3.8/dist-packages (from electricdreams==0.0.5) (6.1.1)\n",
            "Requirement already satisfied: scipy<2.0.0,>=1.9.3 in /usr/local/lib/python3.8/dist-packages (from electricdreams==0.0.5) (1.9.3)\n",
            "Requirement already satisfied: torch<2.0.0,>=1.13.0 in /usr/local/lib/python3.8/dist-packages (from electricdreams==0.0.5) (1.13.0+cu116)\n",
            "Requirement already satisfied: fastapi<0.89.0,>=0.88.0 in /usr/local/lib/python3.8/dist-packages (from electricdreams==0.0.5) (0.88.0)\n",
            "Requirement already satisfied: Pillow<10.0.0,>=9.0.0 in /usr/local/lib/python3.8/dist-packages (from electricdreams==0.0.5) (9.0.0)\n",
            "Requirement already satisfied: python-dotenv<0.22.0,>=0.21.0 in /usr/local/lib/python3.8/dist-packages (from electricdreams==0.0.5) (0.21.0)\n",
            "Requirement already satisfied: accelerate<0.16.0,>=0.15.0 in /usr/local/lib/python3.8/dist-packages (from electricdreams==0.0.5) (0.15.0)\n",
            "Requirement already satisfied: uvicorn<0.21.0,>=0.20.0 in /usr/local/lib/python3.8/dist-packages (from electricdreams==0.0.5) (0.20.0)\n",
            "Requirement already satisfied: transformers<5.0.0,>=4.25.1 in /usr/local/lib/python3.8/dist-packages (from electricdreams==0.0.5) (4.25.1)\n",
            "Requirement already satisfied: huggingface-hub>=0.10.0 in /usr/local/lib/python3.8/dist-packages (from diffusers==0.8.0->electricdreams==0.0.5) (0.11.1)\n",
            "Requirement already satisfied: regex!=2019.12.17 in /usr/local/lib/python3.8/dist-packages (from diffusers==0.8.0->electricdreams==0.0.5) (2022.6.2)\n",
            "Requirement already satisfied: importlib-metadata in /usr/local/lib/python3.8/dist-packages (from diffusers==0.8.0->electricdreams==0.0.5) (4.13.0)\n",
            "Requirement already satisfied: numpy in /usr/local/lib/python3.8/dist-packages (from diffusers==0.8.0->electricdreams==0.0.5) (1.21.6)\n",
            "Requirement already satisfied: requests in /usr/local/lib/python3.8/dist-packages (from diffusers==0.8.0->electricdreams==0.0.5) (2.23.0)\n",
            "Requirement already satisfied: filelock in /usr/local/lib/python3.8/dist-packages (from diffusers==0.8.0->electricdreams==0.0.5) (3.8.0)\n",
            "Requirement already satisfied: psutil in /usr/local/lib/python3.8/dist-packages (from accelerate<0.16.0,>=0.15.0->electricdreams==0.0.5) (5.4.8)\n",
            "Requirement already satisfied: packaging>=20.0 in /usr/local/lib/python3.8/dist-packages (from accelerate<0.16.0,>=0.15.0->electricdreams==0.0.5) (21.3)\n",
            "Requirement already satisfied: pyyaml in /usr/local/lib/python3.8/dist-packages (from accelerate<0.16.0,>=0.15.0->electricdreams==0.0.5) (6.0)\n",
            "Requirement already satisfied: starlette==0.22.0 in /usr/local/lib/python3.8/dist-packages (from fastapi<0.89.0,>=0.88.0->electricdreams==0.0.5) (0.22.0)\n",
            "Requirement already satisfied: pydantic!=1.7,!=1.7.1,!=1.7.2,!=1.7.3,!=1.8,!=1.8.1,<2.0.0,>=1.6.2 in /usr/local/lib/python3.8/dist-packages (from fastapi<0.89.0,>=0.88.0->electricdreams==0.0.5) (1.10.2)\n",
            "Requirement already satisfied: anyio<5,>=3.4.0 in /usr/local/lib/python3.8/dist-packages (from starlette==0.22.0->fastapi<0.89.0,>=0.88.0->electricdreams==0.0.5) (3.6.2)\n",
            "Requirement already satisfied: typing-extensions>=3.10.0 in /usr/local/lib/python3.8/dist-packages (from starlette==0.22.0->fastapi<0.89.0,>=0.88.0->electricdreams==0.0.5) (4.4.0)\n",
            "Requirement already satisfied: sniffio>=1.1 in /usr/local/lib/python3.8/dist-packages (from anyio<5,>=3.4.0->starlette==0.22.0->fastapi<0.89.0,>=0.88.0->electricdreams==0.0.5) (1.3.0)\n",
            "Requirement already satisfied: idna>=2.8 in /usr/local/lib/python3.8/dist-packages (from anyio<5,>=3.4.0->starlette==0.22.0->fastapi<0.89.0,>=0.88.0->electricdreams==0.0.5) (2.10)\n",
            "Requirement already satisfied: wcwidth>=0.2.5 in /usr/local/lib/python3.8/dist-packages (from ftfy<7.0.0,>=6.1.1->electricdreams==0.0.5) (0.2.5)\n",
            "Requirement already satisfied: tqdm in /usr/local/lib/python3.8/dist-packages (from huggingface-hub>=0.10.0->diffusers==0.8.0->electricdreams==0.0.5) (4.64.1)\n",
            "Requirement already satisfied: openpyxl>=3.0.7 in /usr/local/lib/python3.8/dist-packages (from openai<0.26.0,>=0.25.0->electricdreams==0.0.5) (3.0.10)\n",
            "Requirement already satisfied: pandas-stubs>=1.1.0.11 in /usr/local/lib/python3.8/dist-packages (from openai<0.26.0,>=0.25.0->electricdreams==0.0.5) (1.5.2.221124)\n",
            "Requirement already satisfied: pandas>=1.2.3 in /usr/local/lib/python3.8/dist-packages (from openai<0.26.0,>=0.25.0->electricdreams==0.0.5) (1.3.5)\n",
            "Requirement already satisfied: et-xmlfile in /usr/local/lib/python3.8/dist-packages (from openpyxl>=3.0.7->openai<0.26.0,>=0.25.0->electricdreams==0.0.5) (1.1.0)\n",
            "Requirement already satisfied: pyparsing!=3.0.5,>=2.0.2 in /usr/local/lib/python3.8/dist-packages (from packaging>=20.0->accelerate<0.16.0,>=0.15.0->electricdreams==0.0.5) (3.0.9)\n",
            "Requirement already satisfied: pytz>=2017.3 in /usr/local/lib/python3.8/dist-packages (from pandas>=1.2.3->openai<0.26.0,>=0.25.0->electricdreams==0.0.5) (2022.6)\n",
            "Requirement already satisfied: python-dateutil>=2.7.3 in /usr/local/lib/python3.8/dist-packages (from pandas>=1.2.3->openai<0.26.0,>=0.25.0->electricdreams==0.0.5) (2.8.2)\n",
            "Requirement already satisfied: types-pytz>=2022.1.1 in /usr/local/lib/python3.8/dist-packages (from pandas-stubs>=1.1.0.11->openai<0.26.0,>=0.25.0->electricdreams==0.0.5) (2022.6.0.1)\n",
            "Requirement already satisfied: six>=1.5 in /usr/local/lib/python3.8/dist-packages (from python-dateutil>=2.7.3->pandas>=1.2.3->openai<0.26.0,>=0.25.0->electricdreams==0.0.5) (1.15.0)\n",
            "Requirement already satisfied: certifi>=2017.4.17 in /usr/local/lib/python3.8/dist-packages (from requests->diffusers==0.8.0->electricdreams==0.0.5) (2022.9.24)\n",
            "Requirement already satisfied: urllib3!=1.25.0,!=1.25.1,<1.26,>=1.21.1 in /usr/local/lib/python3.8/dist-packages (from requests->diffusers==0.8.0->electricdreams==0.0.5) (1.24.3)\n",
            "Requirement already satisfied: chardet<4,>=3.0.2 in /usr/local/lib/python3.8/dist-packages (from requests->diffusers==0.8.0->electricdreams==0.0.5) (3.0.4)\n",
            "Requirement already satisfied: tokenizers!=0.11.3,<0.14,>=0.11.1 in /usr/local/lib/python3.8/dist-packages (from transformers<5.0.0,>=4.25.1->electricdreams==0.0.5) (0.13.2)\n",
            "Requirement already satisfied: click>=7.0 in /usr/local/lib/python3.8/dist-packages (from uvicorn<0.21.0,>=0.20.0->electricdreams==0.0.5) (7.1.2)\n",
            "Requirement already satisfied: h11>=0.8 in /usr/local/lib/python3.8/dist-packages (from uvicorn<0.21.0,>=0.20.0->electricdreams==0.0.5) (0.14.0)\n",
            "Requirement already satisfied: zipp>=0.5 in /usr/local/lib/python3.8/dist-packages (from importlib-metadata->diffusers==0.8.0->electricdreams==0.0.5) (3.11.0)\n"
          ]
        }
      ],
      "source": [
        "# Install latest ED from test.pypi\n",
        "!pip install -i https://test.pypi.org/simple/ electricdreams==0.0.5 --no-cache-dir"
      ]
    },
    {
      "cell_type": "code",
      "execution_count": 21,
      "metadata": {
        "colab": {
          "base_uri": "https://localhost:8080/"
        },
        "id": "qFdgOerfsSVq",
        "outputId": "4a471dbf-a04f-4ad2-948b-7b22d74729f3"
      },
      "outputs": [
        {
          "name": "stdout",
          "output_type": "stream",
          "text": [
            "TO EXIT, TYPE: quit\n",
            "You awaken into a world of darkness. You find yourself in an alleyway, surrounded by neon signs that are reflective on the wet pavement. There is a clatter of robotics marching up and down the street, and the wind brings in a faint aroma of oil and ozone. A single flickering lightbulb hangs from the nearby rooftop. You are able to move left, right, forward and back. {Which way would you like to move?}\n",
            "Human: quit\n"
          ]
        }
      ],
      "source": [
        "## Run the adventure in pure shell\n",
        "import electricdreams.adventure as ad\n",
        "#ad.main()\n",
        "\n",
        "## OR iterate in REPL mode with images\n",
        "# Create the chat session\n",
        "from IPython.display import HTML, Image, display\n",
        "import electricdreams.chatter as ec\n",
        "chat = ec.Chat(has_images=True, is_interactive=True, input_fn=input, prompt = ad.get_default_prompt())\n",
        "    # Run the chat iteratively\n",
        "    for response in chat.chat(prompt):\n",
        "        display(Image(filename=response.image))\n",
        "        display(HTML(\"<pre>\"+response.text+\"</pre>\"))\n",
        "        if response.last_prompt == Chat.COMMAND_QUIT:\n",
        "            print(\"... finishing!\")\n",
        "            break\n"
      ]
    }
  ],
  "metadata": {
    "colab": {
      "include_colab_link": true,
      "provenance": []
    },
    "gpuClass": "standard",
    "kernelspec": {
      "display_name": ".venv",
      "language": "python",
      "name": "python3"
    },
    "language_info": {
      "codemirror_mode": {
        "name": "ipython",
        "version": 3
      },
      "file_extension": ".py",
      "mimetype": "text/x-python",
      "name": "python",
      "nbconvert_exporter": "python",
      "pygments_lexer": "ipython3",
      "version": "3.8.13 (default, Oct  4 2022, 14:00:32) \n[GCC 9.4.0]"
    },
    "orig_nbformat": 4,
    "vscode": {
      "interpreter": {
        "hash": "bada0f49f475334233d4f7be98453b47ae2c6c58fcccb87167ad22eb1d7bdedb"
      }
    }
  },
  "nbformat": 4,
  "nbformat_minor": 0
}
