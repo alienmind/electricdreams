{
  "cells": [
    {
      "cell_type": "markdown",
      "metadata": {
        "colab_type": "text",
        "id": "view-in-github"
      },
      "source": [
        "<a href=\"https://colab.research.google.com/gist/alienmind/5d74bc442dbe08b707615e9a1fdfe4af/electricdreams-api.ipynb\" target=\"_parent\"><img src=\"https://colab.research.google.com/assets/colab-badge.svg\" alt=\"Open In Colab\"/></a>"
      ]
    },
    {
      "cell_type": "markdown",
      "metadata": {
        "id": "_dPNjwSC_vaI"
      },
      "source": [
        "# **ElectricDreams Backend API**\n",
        "\n",
        "The backend runs entirely in a notebook as it requires an expensive GPU.\n",
        "Luckly Google Colab has us covered."
      ]
    },
    {
      "cell_type": "code",
      "execution_count": null,
      "metadata": {
        "colab": {
          "base_uri": "https://localhost:8080/"
        },
        "id": "1RLgb7uF_Cod",
        "outputId": "172f30aa-5982-492d-d306-b8b2d0c50e2a"
      },
      "outputs": [
        {
          "name": "stdout",
          "output_type": "stream",
          "text": [
            "Looking in indexes: https://pypi.org/simple, https://us-python.pkg.dev/colab-wheels/public/simple/\n",
            "Requirement already satisfied: flask in /usr/local/lib/python3.8/dist-packages (1.1.4)\n",
            "Requirement already satisfied: itsdangerous<2.0,>=0.24 in /usr/local/lib/python3.8/dist-packages (from flask) (1.1.0)\n",
            "Requirement already satisfied: Werkzeug<2.0,>=0.15 in /usr/local/lib/python3.8/dist-packages (from flask) (1.0.1)\n",
            "Requirement already satisfied: click<8.0,>=5.1 in /usr/local/lib/python3.8/dist-packages (from flask) (7.1.2)\n",
            "Requirement already satisfied: Jinja2<3.0,>=2.10.1 in /usr/local/lib/python3.8/dist-packages (from flask) (2.11.3)\n",
            "Requirement already satisfied: MarkupSafe>=0.23 in /usr/local/lib/python3.8/dist-packages (from Jinja2<3.0,>=2.10.1->flask) (2.0.1)\n"
          ]
        }
      ],
      "source": [
        "!pip install flask"
      ]
    },
    {
      "cell_type": "code",
      "execution_count": null,
      "metadata": {
        "colab": {
          "base_uri": "https://localhost:8080/"
        },
        "id": "U5JI0GVHAuVZ",
        "outputId": "e779200d-2165-413e-9e7d-e30f9891436c"
      },
      "outputs": [
        {
          "name": "stdout",
          "output_type": "stream",
          "text": [
            "--2022-12-06 11:55:44--  https://bin.equinox.io/c/bNyj1mQVY4c/ngrok-v3-stable-linux-amd64.tgz\n",
            "Resolving bin.equinox.io (bin.equinox.io)... 54.161.241.46, 52.202.168.65, 18.205.222.128, ...\n",
            "Connecting to bin.equinox.io (bin.equinox.io)|54.161.241.46|:443... connected.\n",
            "HTTP request sent, awaiting response... 200 OK\n",
            "Length: 8413784 (8.0M) [application/octet-stream]\n",
            "Saving to: ‘ngrok-v3-stable-linux-amd64.tgz.1’\n",
            "\n",
            "ngrok-v3-stable-lin 100%[===================>]   8.02M  29.2MB/s    in 0.3s    \n",
            "\n",
            "2022-12-06 11:55:45 (29.2 MB/s) - ‘ngrok-v3-stable-linux-amd64.tgz.1’ saved [8413784/8413784]\n",
            "\n",
            "ngrok\n"
          ]
        }
      ],
      "source": [
        "!wget https://bin.equinox.io/c/bNyj1mQVY4c/ngrok-v3-stable-linux-amd64.tgz\n",
        "!tar -xzvf ngrok-v3-stable-linux-amd64.tgz"
      ]
    },
    {
      "cell_type": "code",
      "execution_count": null,
      "metadata": {
        "id": "DtpR6O_l_ogB"
      },
      "outputs": [],
      "source": [
        "import flask\n",
        "from IPython import get_ipython"
      ]
    },
    {
      "cell_type": "code",
      "execution_count": null,
      "metadata": {
        "colab": {
          "base_uri": "https://localhost:8080/"
        },
        "id": "n2OFXgBGRc98",
        "outputId": "3bfd6f7d-1c5f-4b73-92d4-ae83a977c1f2"
      },
      "outputs": [
        {
          "name": "stdout",
          "output_type": "stream",
          "text": [
            "Authtoken saved to configuration file: /root/.config/ngrok/ngrok.yml\n"
          ]
        }
      ],
      "source": [
        "!./ngrok config add-authtoken 2IXUHIUOqo4U8MPn8EsaEYEEblm_4WjLoUYuzWWFFh8zUR3g1"
      ]
    },
    {
      "cell_type": "code",
      "execution_count": null,
      "metadata": {
        "colab": {
          "base_uri": "https://localhost:8080/"
        },
        "id": "q7gl2mnCaPXs",
        "outputId": "6ee57dfa-1d0f-46b3-9804-3470a2a57820"
      },
      "outputs": [
        {
          "name": "stdout",
          "output_type": "stream",
          "text": [
            "Mounted at /content/drive\n"
          ]
        }
      ],
      "source": [
        "### Open Google Drive and set CONFIG_DIR to a directory holding a variables.env file\n",
        "from google.colab import drive\n",
        "drive.mount('/content/drive', force_remount=True)\n",
        "CONFIG_DIR = '/content/drive/My Drive/ElectricDreams/'"
      ]
    },
    {
      "cell_type": "code",
      "execution_count": null,
      "metadata": {
        "colab": {
          "base_uri": "https://localhost:8080/"
        },
        "id": "ecI6OHYYZ5Tx",
        "outputId": "53761e53-343c-4cc1-d4bc-8b9167729e4e"
      },
      "outputs": [
        {
          "name": "stdout",
          "output_type": "stream",
          "text": [
            "Looking in indexes: https://pypi.org/simple, https://us-python.pkg.dev/colab-wheels/public/simple/\n",
            "Collecting python-dotenv\n",
            "  Downloading python_dotenv-0.21.0-py3-none-any.whl (18 kB)\n",
            "Installing collected packages: python-dotenv\n",
            "Successfully installed python-dotenv-0.21.0\n"
          ]
        },
        {
          "data": {
            "text/plain": [
              "True"
            ]
          },
          "execution_count": 3,
          "metadata": {},
          "output_type": "execute_result"
        }
      ],
      "source": [
        "### Prepare secrets\n",
        "### Setup environment variables processing\n",
        "!pip install python-dotenv\n",
        "%load_ext dotenv\n",
        "\n",
        "## Process API keys and other variables\n",
        "import dotenv\n",
        "import os\n",
        "dotenv.load_dotenv(os.path.join(CONFIG_DIR, 'variables.env'))\n",
        "#print(os.getenv('OPENAI_API_KEY'))\n",
        "#print(os.getenv('HUGGINGFACE_API_KEY'))"
      ]
    },
    {
      "cell_type": "code",
      "execution_count": null,
      "metadata": {
        "id": "BF1Xf6K-f7_6"
      },
      "outputs": [],
      "source": [
        "%reload_ext dotenv"
      ]
    },
    {
      "cell_type": "code",
      "execution_count": null,
      "metadata": {
        "colab": {
          "base_uri": "https://localhost:8080/"
        },
        "id": "H47P9wr8FKw7",
        "outputId": "71fa0d1b-dda8-4881-b1c0-86a2e87dccec"
      },
      "outputs": [
        {
          "name": "stdout",
          "output_type": "stream",
          "text": [
            "Looking in indexes: https://pypi.org/simple, https://us-python.pkg.dev/colab-wheels/public/simple/\n",
            "Collecting openai\n",
            "  Downloading openai-0.25.0.tar.gz (44 kB)\n",
            "\u001b[K     |████████████████████████████████| 44 kB 3.5 MB/s \n",
            "\u001b[?25h  Installing build dependencies ... \u001b[?25l\u001b[?25hdone\n",
            "  Getting requirements to build wheel ... \u001b[?25l\u001b[?25hdone\n",
            "    Preparing wheel metadata ... \u001b[?25l\u001b[?25hdone\n",
            "Requirement already satisfied: typing-extensions in /usr/local/lib/python3.8/dist-packages (from openai) (4.1.1)\n",
            "Requirement already satisfied: requests>=2.20 in /usr/local/lib/python3.8/dist-packages (from openai) (2.23.0)\n",
            "Requirement already satisfied: tqdm in /usr/local/lib/python3.8/dist-packages (from openai) (4.64.1)\n",
            "Requirement already satisfied: pandas>=1.2.3 in /usr/local/lib/python3.8/dist-packages (from openai) (1.3.5)\n",
            "Requirement already satisfied: numpy in /usr/local/lib/python3.8/dist-packages (from openai) (1.21.6)\n",
            "Requirement already satisfied: openpyxl>=3.0.7 in /usr/local/lib/python3.8/dist-packages (from openai) (3.0.10)\n",
            "Collecting pandas-stubs>=1.1.0.11\n",
            "  Downloading pandas_stubs-1.5.2.221124-py3-none-any.whl (146 kB)\n",
            "\u001b[K     |████████████████████████████████| 146 kB 42.7 MB/s \n",
            "\u001b[?25hRequirement already satisfied: et-xmlfile in /usr/local/lib/python3.8/dist-packages (from openpyxl>=3.0.7->openai) (1.1.0)\n",
            "Requirement already satisfied: pytz>=2017.3 in /usr/local/lib/python3.8/dist-packages (from pandas>=1.2.3->openai) (2022.6)\n",
            "Requirement already satisfied: python-dateutil>=2.7.3 in /usr/local/lib/python3.8/dist-packages (from pandas>=1.2.3->openai) (2.8.2)\n",
            "Collecting types-pytz>=2022.1.1\n",
            "  Downloading types_pytz-2022.6.0.1-py3-none-any.whl (4.7 kB)\n",
            "Requirement already satisfied: six>=1.5 in /usr/local/lib/python3.8/dist-packages (from python-dateutil>=2.7.3->pandas>=1.2.3->openai) (1.15.0)\n",
            "Requirement already satisfied: urllib3!=1.25.0,!=1.25.1,<1.26,>=1.21.1 in /usr/local/lib/python3.8/dist-packages (from requests>=2.20->openai) (1.24.3)\n",
            "Requirement already satisfied: idna<3,>=2.5 in /usr/local/lib/python3.8/dist-packages (from requests>=2.20->openai) (2.10)\n",
            "Requirement already satisfied: chardet<4,>=3.0.2 in /usr/local/lib/python3.8/dist-packages (from requests>=2.20->openai) (3.0.4)\n",
            "Requirement already satisfied: certifi>=2017.4.17 in /usr/local/lib/python3.8/dist-packages (from requests>=2.20->openai) (2022.9.24)\n",
            "Building wheels for collected packages: openai\n",
            "  Building wheel for openai (PEP 517) ... \u001b[?25l\u001b[?25hdone\n",
            "  Created wheel for openai: filename=openai-0.25.0-py3-none-any.whl size=55880 sha256=89e18bf9caa5584c5e11d6939b0a91c95d4562a490f1a670f912955ced07ad99\n",
            "  Stored in directory: /root/.cache/pip/wheels/4b/92/33/6f57c7aae0b16875267999a50570e81f15eecec577ebe05a2e\n",
            "Successfully built openai\n",
            "Installing collected packages: types-pytz, pandas-stubs, openai\n",
            "Successfully installed openai-0.25.0 pandas-stubs-1.5.2.221124 types-pytz-2022.6.0.1\n"
          ]
        }
      ],
      "source": [
        "### OPENAI REQS\n",
        "!pip install openai\n"
      ]
    },
    {
      "cell_type": "markdown",
      "metadata": {
        "id": "nLCZMZvoPoRK"
      },
      "source": [
        "**OpenAI**"
      ]
    },
    {
      "cell_type": "code",
      "execution_count": null,
      "metadata": {
        "colab": {
          "base_uri": "https://localhost:8080/"
        },
        "id": "kTjddOVcawO6",
        "outputId": "16a8a8a9-bc1d-4a40-ddd5-fed9854623b6"
      },
      "outputs": [
        {
          "name": "stdout",
          "output_type": "stream",
          "text": [
            "Looking in indexes: https://pypi.org/simple, https://us-python.pkg.dev/colab-wheels/public/simple/\n",
            "Collecting diffusers==0.8.0\n",
            "  Downloading diffusers-0.8.0-py3-none-any.whl (433 kB)\n",
            "\u001b[K     |████████████████████████████████| 433 kB 31.3 MB/s \n",
            "\u001b[?25hRequirement already satisfied: requests in /usr/local/lib/python3.8/dist-packages (from diffusers==0.8.0) (2.23.0)\n",
            "Requirement already satisfied: importlib-metadata in /usr/local/lib/python3.8/dist-packages (from diffusers==0.8.0) (4.13.0)\n",
            "Requirement already satisfied: Pillow in /usr/local/lib/python3.8/dist-packages (from diffusers==0.8.0) (7.1.2)\n",
            "Requirement already satisfied: numpy in /usr/local/lib/python3.8/dist-packages (from diffusers==0.8.0) (1.21.6)\n",
            "Requirement already satisfied: regex!=2019.12.17 in /usr/local/lib/python3.8/dist-packages (from diffusers==0.8.0) (2022.6.2)\n",
            "Collecting huggingface-hub>=0.10.0\n",
            "  Downloading huggingface_hub-0.11.1-py3-none-any.whl (182 kB)\n",
            "\u001b[K     |████████████████████████████████| 182 kB 73.1 MB/s \n",
            "\u001b[?25hRequirement already satisfied: filelock in /usr/local/lib/python3.8/dist-packages (from diffusers==0.8.0) (3.8.0)\n",
            "Requirement already satisfied: pyyaml>=5.1 in /usr/local/lib/python3.8/dist-packages (from huggingface-hub>=0.10.0->diffusers==0.8.0) (6.0)\n",
            "Requirement already satisfied: tqdm in /usr/local/lib/python3.8/dist-packages (from huggingface-hub>=0.10.0->diffusers==0.8.0) (4.64.1)\n",
            "Requirement already satisfied: packaging>=20.9 in /usr/local/lib/python3.8/dist-packages (from huggingface-hub>=0.10.0->diffusers==0.8.0) (21.3)\n",
            "Requirement already satisfied: typing-extensions>=3.7.4.3 in /usr/local/lib/python3.8/dist-packages (from huggingface-hub>=0.10.0->diffusers==0.8.0) (4.1.1)\n",
            "Requirement already satisfied: pyparsing!=3.0.5,>=2.0.2 in /usr/local/lib/python3.8/dist-packages (from packaging>=20.9->huggingface-hub>=0.10.0->diffusers==0.8.0) (3.0.9)\n",
            "Requirement already satisfied: zipp>=0.5 in /usr/local/lib/python3.8/dist-packages (from importlib-metadata->diffusers==0.8.0) (3.10.0)\n",
            "Requirement already satisfied: urllib3!=1.25.0,!=1.25.1,<1.26,>=1.21.1 in /usr/local/lib/python3.8/dist-packages (from requests->diffusers==0.8.0) (1.24.3)\n",
            "Requirement already satisfied: chardet<4,>=3.0.2 in /usr/local/lib/python3.8/dist-packages (from requests->diffusers==0.8.0) (3.0.4)\n",
            "Requirement already satisfied: certifi>=2017.4.17 in /usr/local/lib/python3.8/dist-packages (from requests->diffusers==0.8.0) (2022.9.24)\n",
            "Requirement already satisfied: idna<3,>=2.5 in /usr/local/lib/python3.8/dist-packages (from requests->diffusers==0.8.0) (2.10)\n",
            "Installing collected packages: huggingface-hub, diffusers\n",
            "Successfully installed diffusers-0.8.0 huggingface-hub-0.11.1\n",
            "Looking in indexes: https://pypi.org/simple, https://us-python.pkg.dev/colab-wheels/public/simple/\n",
            "Collecting transformers\n",
            "  Downloading transformers-4.25.1-py3-none-any.whl (5.8 MB)\n",
            "\u001b[K     |████████████████████████████████| 5.8 MB 35.2 MB/s \n",
            "\u001b[?25hRequirement already satisfied: scipy in /usr/local/lib/python3.8/dist-packages (1.7.3)\n",
            "Collecting ftfy\n",
            "  Downloading ftfy-6.1.1-py3-none-any.whl (53 kB)\n",
            "\u001b[K     |████████████████████████████████| 53 kB 1.2 MB/s \n",
            "\u001b[?25hRequirement already satisfied: huggingface-hub<1.0,>=0.10.0 in /usr/local/lib/python3.8/dist-packages (from transformers) (0.11.1)\n",
            "Requirement already satisfied: packaging>=20.0 in /usr/local/lib/python3.8/dist-packages (from transformers) (21.3)\n",
            "Requirement already satisfied: requests in /usr/local/lib/python3.8/dist-packages (from transformers) (2.23.0)\n",
            "Requirement already satisfied: numpy>=1.17 in /usr/local/lib/python3.8/dist-packages (from transformers) (1.21.6)\n",
            "Requirement already satisfied: tqdm>=4.27 in /usr/local/lib/python3.8/dist-packages (from transformers) (4.64.1)\n",
            "Requirement already satisfied: regex!=2019.12.17 in /usr/local/lib/python3.8/dist-packages (from transformers) (2022.6.2)\n",
            "Requirement already satisfied: pyyaml>=5.1 in /usr/local/lib/python3.8/dist-packages (from transformers) (6.0)\n",
            "Collecting tokenizers!=0.11.3,<0.14,>=0.11.1\n",
            "  Downloading tokenizers-0.13.2-cp38-cp38-manylinux_2_17_x86_64.manylinux2014_x86_64.whl (7.6 MB)\n",
            "\u001b[K     |████████████████████████████████| 7.6 MB 51.9 MB/s \n",
            "\u001b[?25hRequirement already satisfied: filelock in /usr/local/lib/python3.8/dist-packages (from transformers) (3.8.0)\n",
            "Requirement already satisfied: typing-extensions>=3.7.4.3 in /usr/local/lib/python3.8/dist-packages (from huggingface-hub<1.0,>=0.10.0->transformers) (4.1.1)\n",
            "Requirement already satisfied: pyparsing!=3.0.5,>=2.0.2 in /usr/local/lib/python3.8/dist-packages (from packaging>=20.0->transformers) (3.0.9)\n",
            "Requirement already satisfied: wcwidth>=0.2.5 in /usr/local/lib/python3.8/dist-packages (from ftfy) (0.2.5)\n",
            "Requirement already satisfied: certifi>=2017.4.17 in /usr/local/lib/python3.8/dist-packages (from requests->transformers) (2022.9.24)\n",
            "Requirement already satisfied: chardet<4,>=3.0.2 in /usr/local/lib/python3.8/dist-packages (from requests->transformers) (3.0.4)\n",
            "Requirement already satisfied: urllib3!=1.25.0,!=1.25.1,<1.26,>=1.21.1 in /usr/local/lib/python3.8/dist-packages (from requests->transformers) (1.24.3)\n",
            "Requirement already satisfied: idna<3,>=2.5 in /usr/local/lib/python3.8/dist-packages (from requests->transformers) (2.10)\n",
            "Installing collected packages: tokenizers, transformers, ftfy\n",
            "Successfully installed ftfy-6.1.1 tokenizers-0.13.2 transformers-4.25.1\n",
            "Looking in indexes: https://pypi.org/simple, https://us-python.pkg.dev/colab-wheels/public/simple/\n",
            "Requirement already satisfied: ipywidgets<8,>=7 in /usr/local/lib/python3.8/dist-packages (7.7.1)\n",
            "Requirement already satisfied: ipykernel>=4.5.1 in /usr/local/lib/python3.8/dist-packages (from ipywidgets<8,>=7) (5.3.4)\n",
            "Requirement already satisfied: traitlets>=4.3.1 in /usr/local/lib/python3.8/dist-packages (from ipywidgets<8,>=7) (5.1.1)\n",
            "Requirement already satisfied: ipython>=4.0.0 in /usr/local/lib/python3.8/dist-packages (from ipywidgets<8,>=7) (7.9.0)\n",
            "Requirement already satisfied: widgetsnbextension~=3.6.0 in /usr/local/lib/python3.8/dist-packages (from ipywidgets<8,>=7) (3.6.1)\n",
            "Requirement already satisfied: jupyterlab-widgets>=1.0.0 in /usr/local/lib/python3.8/dist-packages (from ipywidgets<8,>=7) (3.0.3)\n",
            "Requirement already satisfied: ipython-genutils~=0.2.0 in /usr/local/lib/python3.8/dist-packages (from ipywidgets<8,>=7) (0.2.0)\n",
            "Requirement already satisfied: jupyter-client in /usr/local/lib/python3.8/dist-packages (from ipykernel>=4.5.1->ipywidgets<8,>=7) (6.1.12)\n",
            "Requirement already satisfied: tornado>=4.2 in /usr/local/lib/python3.8/dist-packages (from ipykernel>=4.5.1->ipywidgets<8,>=7) (6.0.4)\n",
            "Requirement already satisfied: pexpect in /usr/local/lib/python3.8/dist-packages (from ipython>=4.0.0->ipywidgets<8,>=7) (4.8.0)\n",
            "Requirement already satisfied: prompt-toolkit<2.1.0,>=2.0.0 in /usr/local/lib/python3.8/dist-packages (from ipython>=4.0.0->ipywidgets<8,>=7) (2.0.10)\n",
            "Requirement already satisfied: backcall in /usr/local/lib/python3.8/dist-packages (from ipython>=4.0.0->ipywidgets<8,>=7) (0.2.0)\n",
            "Requirement already satisfied: decorator in /usr/local/lib/python3.8/dist-packages (from ipython>=4.0.0->ipywidgets<8,>=7) (4.4.2)\n",
            "Requirement already satisfied: setuptools>=18.5 in /usr/local/lib/python3.8/dist-packages (from ipython>=4.0.0->ipywidgets<8,>=7) (57.4.0)\n",
            "Requirement already satisfied: pickleshare in /usr/local/lib/python3.8/dist-packages (from ipython>=4.0.0->ipywidgets<8,>=7) (0.7.5)\n",
            "Requirement already satisfied: pygments in /usr/local/lib/python3.8/dist-packages (from ipython>=4.0.0->ipywidgets<8,>=7) (2.6.1)\n",
            "Collecting jedi>=0.10\n",
            "  Downloading jedi-0.18.2-py2.py3-none-any.whl (1.6 MB)\n",
            "\u001b[K     |████████████████████████████████| 1.6 MB 30.7 MB/s \n",
            "\u001b[?25hRequirement already satisfied: parso<0.9.0,>=0.8.0 in /usr/local/lib/python3.8/dist-packages (from jedi>=0.10->ipython>=4.0.0->ipywidgets<8,>=7) (0.8.3)\n",
            "Requirement already satisfied: six>=1.9.0 in /usr/local/lib/python3.8/dist-packages (from prompt-toolkit<2.1.0,>=2.0.0->ipython>=4.0.0->ipywidgets<8,>=7) (1.15.0)\n",
            "Requirement already satisfied: wcwidth in /usr/local/lib/python3.8/dist-packages (from prompt-toolkit<2.1.0,>=2.0.0->ipython>=4.0.0->ipywidgets<8,>=7) (0.2.5)\n",
            "Requirement already satisfied: notebook>=4.4.1 in /usr/local/lib/python3.8/dist-packages (from widgetsnbextension~=3.6.0->ipywidgets<8,>=7) (5.7.16)\n",
            "Requirement already satisfied: nbconvert<6.0 in /usr/local/lib/python3.8/dist-packages (from notebook>=4.4.1->widgetsnbextension~=3.6.0->ipywidgets<8,>=7) (5.6.1)\n",
            "Requirement already satisfied: nbformat in /usr/local/lib/python3.8/dist-packages (from notebook>=4.4.1->widgetsnbextension~=3.6.0->ipywidgets<8,>=7) (5.7.0)\n",
            "Requirement already satisfied: jupyter-core>=4.4.0 in /usr/local/lib/python3.8/dist-packages (from notebook>=4.4.1->widgetsnbextension~=3.6.0->ipywidgets<8,>=7) (4.11.2)\n",
            "Requirement already satisfied: pyzmq>=17 in /usr/local/lib/python3.8/dist-packages (from notebook>=4.4.1->widgetsnbextension~=3.6.0->ipywidgets<8,>=7) (23.2.1)\n",
            "Requirement already satisfied: Send2Trash in /usr/local/lib/python3.8/dist-packages (from notebook>=4.4.1->widgetsnbextension~=3.6.0->ipywidgets<8,>=7) (1.8.0)\n",
            "Requirement already satisfied: jinja2<=3.0.0 in /usr/local/lib/python3.8/dist-packages (from notebook>=4.4.1->widgetsnbextension~=3.6.0->ipywidgets<8,>=7) (2.11.3)\n",
            "Requirement already satisfied: terminado>=0.8.1 in /usr/local/lib/python3.8/dist-packages (from notebook>=4.4.1->widgetsnbextension~=3.6.0->ipywidgets<8,>=7) (0.13.3)\n",
            "Requirement already satisfied: prometheus-client in /usr/local/lib/python3.8/dist-packages (from notebook>=4.4.1->widgetsnbextension~=3.6.0->ipywidgets<8,>=7) (0.15.0)\n",
            "Requirement already satisfied: MarkupSafe>=0.23 in /usr/local/lib/python3.8/dist-packages (from jinja2<=3.0.0->notebook>=4.4.1->widgetsnbextension~=3.6.0->ipywidgets<8,>=7) (2.0.1)\n",
            "Requirement already satisfied: python-dateutil>=2.1 in /usr/local/lib/python3.8/dist-packages (from jupyter-client->ipykernel>=4.5.1->ipywidgets<8,>=7) (2.8.2)\n",
            "Requirement already satisfied: mistune<2,>=0.8.1 in /usr/local/lib/python3.8/dist-packages (from nbconvert<6.0->notebook>=4.4.1->widgetsnbextension~=3.6.0->ipywidgets<8,>=7) (0.8.4)\n",
            "Requirement already satisfied: pandocfilters>=1.4.1 in /usr/local/lib/python3.8/dist-packages (from nbconvert<6.0->notebook>=4.4.1->widgetsnbextension~=3.6.0->ipywidgets<8,>=7) (1.5.0)\n",
            "Requirement already satisfied: bleach in /usr/local/lib/python3.8/dist-packages (from nbconvert<6.0->notebook>=4.4.1->widgetsnbextension~=3.6.0->ipywidgets<8,>=7) (5.0.1)\n",
            "Requirement already satisfied: defusedxml in /usr/local/lib/python3.8/dist-packages (from nbconvert<6.0->notebook>=4.4.1->widgetsnbextension~=3.6.0->ipywidgets<8,>=7) (0.7.1)\n",
            "Requirement already satisfied: testpath in /usr/local/lib/python3.8/dist-packages (from nbconvert<6.0->notebook>=4.4.1->widgetsnbextension~=3.6.0->ipywidgets<8,>=7) (0.6.0)\n",
            "Requirement already satisfied: entrypoints>=0.2.2 in /usr/local/lib/python3.8/dist-packages (from nbconvert<6.0->notebook>=4.4.1->widgetsnbextension~=3.6.0->ipywidgets<8,>=7) (0.4)\n",
            "Requirement already satisfied: fastjsonschema in /usr/local/lib/python3.8/dist-packages (from nbformat->notebook>=4.4.1->widgetsnbextension~=3.6.0->ipywidgets<8,>=7) (2.16.2)\n",
            "Requirement already satisfied: jsonschema>=2.6 in /usr/local/lib/python3.8/dist-packages (from nbformat->notebook>=4.4.1->widgetsnbextension~=3.6.0->ipywidgets<8,>=7) (4.3.3)\n",
            "Requirement already satisfied: pyrsistent!=0.17.0,!=0.17.1,!=0.17.2,>=0.14.0 in /usr/local/lib/python3.8/dist-packages (from jsonschema>=2.6->nbformat->notebook>=4.4.1->widgetsnbextension~=3.6.0->ipywidgets<8,>=7) (0.19.2)\n",
            "Requirement already satisfied: attrs>=17.4.0 in /usr/local/lib/python3.8/dist-packages (from jsonschema>=2.6->nbformat->notebook>=4.4.1->widgetsnbextension~=3.6.0->ipywidgets<8,>=7) (22.1.0)\n",
            "Requirement already satisfied: importlib-resources>=1.4.0 in /usr/local/lib/python3.8/dist-packages (from jsonschema>=2.6->nbformat->notebook>=4.4.1->widgetsnbextension~=3.6.0->ipywidgets<8,>=7) (5.10.0)\n",
            "Requirement already satisfied: zipp>=3.1.0 in /usr/local/lib/python3.8/dist-packages (from importlib-resources>=1.4.0->jsonschema>=2.6->nbformat->notebook>=4.4.1->widgetsnbextension~=3.6.0->ipywidgets<8,>=7) (3.10.0)\n",
            "Requirement already satisfied: ptyprocess in /usr/local/lib/python3.8/dist-packages (from terminado>=0.8.1->notebook>=4.4.1->widgetsnbextension~=3.6.0->ipywidgets<8,>=7) (0.7.0)\n",
            "Requirement already satisfied: webencodings in /usr/local/lib/python3.8/dist-packages (from bleach->nbconvert<6.0->notebook>=4.4.1->widgetsnbextension~=3.6.0->ipywidgets<8,>=7) (0.5.1)\n",
            "Installing collected packages: jedi\n",
            "Successfully installed jedi-0.18.2\n",
            "Looking in indexes: https://pypi.org/simple, https://us-python.pkg.dev/colab-wheels/public/simple/\n",
            "Collecting accelerate\n",
            "  Downloading accelerate-0.15.0-py3-none-any.whl (191 kB)\n",
            "\u001b[K     |████████████████████████████████| 191 kB 28.1 MB/s \n",
            "\u001b[?25hRequirement already satisfied: psutil in /usr/local/lib/python3.8/dist-packages (from accelerate) (5.4.8)\n",
            "Requirement already satisfied: numpy>=1.17 in /usr/local/lib/python3.8/dist-packages (from accelerate) (1.21.6)\n",
            "Requirement already satisfied: pyyaml in /usr/local/lib/python3.8/dist-packages (from accelerate) (6.0)\n",
            "Requirement already satisfied: torch>=1.4.0 in /usr/local/lib/python3.8/dist-packages (from accelerate) (1.12.1+cu113)\n",
            "Requirement already satisfied: packaging>=20.0 in /usr/local/lib/python3.8/dist-packages (from accelerate) (21.3)\n",
            "Requirement already satisfied: pyparsing!=3.0.5,>=2.0.2 in /usr/local/lib/python3.8/dist-packages (from packaging>=20.0->accelerate) (3.0.9)\n",
            "Requirement already satisfied: typing-extensions in /usr/local/lib/python3.8/dist-packages (from torch>=1.4.0->accelerate) (4.1.1)\n",
            "Installing collected packages: accelerate\n",
            "Successfully installed accelerate-0.15.0\n"
          ]
        }
      ],
      "source": [
        "### HUGGINGFACE REQS\n",
        "!pip install diffusers==0.8.0\n",
        "!pip install transformers scipy ftfy\n",
        "!pip install \"ipywidgets>=7,<8\"\n",
        "!pip install accelerate"
      ]
    },
    {
      "cell_type": "code",
      "execution_count": null,
      "metadata": {
        "id": "nT0d7Adna6BT"
      },
      "outputs": [],
      "source": [
        "### HUGGINGFACE LICENSE - no longer needed\n",
        "#from google.colab import output\n",
        "#output.enable_custom_widget_manager()\n",
        "#from huggingface_hub import notebook_login\n",
        "#notebook_login()"
      ]
    },
    {
      "cell_type": "code",
      "execution_count": null,
      "metadata": {
        "colab": {
          "base_uri": "https://localhost:8080/",
          "height": 561,
          "referenced_widgets": [
            "d4231a90c05b43c48f0dc43c44bf4894",
            "086e78c5037b4482a7997fc6f995cd76",
            "17d5bf3729584b439bbacb4e3af350e9",
            "8612f2d8c46e4fa2a1573008e1587530",
            "5dc5f7a9ac7347b785182c38e11de3cc",
            "e8fdd35ff41247a282427a1fcdfc1d6c",
            "25613d5b6680450a8adb38afd2be9a7d",
            "118cde8091db447c98932657ed0944e6",
            "a7d284dc2793423680bcf67f7224f2ee",
            "781f50f55f3c4e1e819150c236610b42",
            "f8d6da3325e74a6a96db14aea27aeea1",
            "04e7173438d3420c84bce97f04aff9cd",
            "0f5b21506a044c118a1ba59b8b3a0b28",
            "19a0ba840f2d4b3fbfb992c79ce21179",
            "2ba6ea8fd9cf4169ba9a922c54f09f84",
            "7356091d422d4c3990180ae7462473c1",
            "c9485f0e640646f9920c797541c7f85f",
            "ba85292c67dd4c98af3877708fb1912e",
            "3de256fdc56f442f8556ad89cb20a47d",
            "c052293657e744a381f3dd9ccbffaed6",
            "60be53910bea4a0b9963637dc12c242a",
            "55ed46074bfb4ec49a5754419023bd84",
            "e82575dcc1f745a5861fd19ce344bbad",
            "18b6c213469c4715bd04f46a69e6b8ed",
            "940c38750bb84d6481b38ed2d5fb6f5a",
            "840d20b6600c461891195573e9f8af2c",
            "4ef087ee2ea9495491bfd68cddf4d1de",
            "4a6f5748776a4c06ad59957a5d5a7e8b",
            "7afec5b2436340a295268b91af483ba9",
            "6f342def6eaf404e93c7fea83a7a8f92",
            "45dfb73d32f74030ae467b89bdf03ffa",
            "9343fb11649146a791cbe8d03144ae3d",
            "378f9b0ca2e140bc87f8a252e30c5697",
            "26b653e92c5349dba38ceb2bf54bdef7",
            "2298531d1dbf479f84f6815def3ca44f",
            "ac69b8aa23444eaeb83d85cb32fdc825",
            "36e4cd59c52747b88749145e3cfa9f92",
            "1ba0ebe56e654dd5ae09e8fec444c836",
            "198b83afce3f456fb73958bb8075a5eb",
            "52f7be9c6bb344fdbb099fc10ec2e229",
            "e1e6202737024f4486a66563c7e19ec0",
            "5353020705d847d4a4645dacbe40466e",
            "35ea56cd4e3b41948e3ebfc60a5ad5d2",
            "90ff263a7738484f92ad3aa10aa95df5",
            "b81dc3f628c64ab8ad3924517f3b7721",
            "8951cca88e4a4f15a86c1e175b4c065f",
            "234bf6e545134973ab91c2cb350c4369",
            "e1b099d64e804f04b8e3671f2f9fe761",
            "1f1f29f785914b65991c2d7366667f24",
            "59fd6dfd91614b43a1e16149d60924ab",
            "de014f1c0e604de8aa2f3500aabc5809",
            "cda597d9c1634ff19a0911c0598b720a",
            "11417b8f270d41efa93aba15a1b8026b",
            "051517ba884f4ec69aedfe3fa5570b98",
            "200c3130e931456abfcc36ccdb9c879b",
            "393d8976581e479982dc053e87a05ad0",
            "e75b1dc8a6ce4935be11e635ebae42bb",
            "935b9c5d9fd94c4994c18ee22aa2f6bd",
            "c850055312704e298d122b9752bb5609",
            "aa9db36f4a0c442a9bcb7faa5e170719",
            "febf6fac85674d3db5b9ef44d25986db",
            "c1f8217dcd57403b85f3a9639731f580",
            "04e55944a8e04b399633c1ab98e2f6fc",
            "c28cf4fc2124405ebd04357277b6f55b",
            "b854665f49064478b130167f6a43b727",
            "0dad594a5b194c8288c344a59c094f01",
            "57cee31c66174c4d827f56a0b0230c7d",
            "05d72118fa1847e496ca35d3616cb23f",
            "a115431b421c4825965fd0646d47093d",
            "d746b750f01e468d9ffbc153e9ac58c2",
            "51b13c93575843d2b5d13c3b7840376d",
            "b8430eea94f34cffbc19d179541e2e8b",
            "69648bacebfb4bc694a74bd37a15ce42",
            "416287a508be4bf182e8ce23b46de0bb",
            "51a97bc0938b4f9abadad2d98a5ee609",
            "60212b3804ef42bc85901d4a6a286767",
            "78abaad1f25846408edac817e67a6f97",
            "6286a4c7487048e5904376ea5ef4b2ec",
            "8e468a0952a7485ba6cf75d989fde2c5",
            "6437b88eed9949d9a63f492ac6655578",
            "a24ef66bf0ba4efb88463e4b73be1952",
            "aaf6d2b519984cffb9c0ec102dff63fb",
            "064054d836384ef1a6aebb6cc4c96e9f",
            "6757c961cc914ba49a3bea709c23686a",
            "01f08561ba42451fb66791bb87fdc92d",
            "4f0f98d22f8a4e3491b7a8dbf90ee33a",
            "3aa925e3d70b4211b150d0f312fe9db9",
            "b244d0513fa44921a8b3068d0f401e24",
            "13e76bf6ad4947ad9f0cf0d369c2b5e5",
            "b3b333b530ad45b1a9bb387e03cfeeb5",
            "3ed2d67d92174dfba90b398a474c01c4",
            "51c38cae3db3498fb54944bc3738f030",
            "e1878ceb30e2432d9765bc65f4c1ff1d",
            "04c869ccd5ec48dbbd21d442e22a22be",
            "bf947f593f9a47c193a77835f318128d",
            "c9b35cb3c32b4d79ac528b2a612d91a4",
            "8e5be23dde924210997375ea981a57ef",
            "e8f14d3e46044432b3a50406aff034f2",
            "beb531f3ef394c208827ac686972cd19",
            "e27ae0ada2304b77821623f2a8398ac3",
            "cd9ac1ddeddc4349ab69781e4101db3e",
            "897cddb6cdd7456e824d3f7f48ba9ed4",
            "f061ab12602c4e2e9b008507a1e3ee12",
            "2e8fe9b037fd40f3b40226344b514e77",
            "e604c8f14c2645ed8cb1a28b277b8ead",
            "878c9f2891a74d289cdd03a4fc2627f0",
            "d6be5d1db22e40449737a38e8e551115",
            "5dc1f10b7fd4466b8a9d734fdd41e034",
            "4995aed95562446e8baf88bd810e911d",
            "05f7359c443643d19abdac873064f7b6",
            "219f9ddd1f3d48c1b972fb0b6bd99fd1",
            "5685ece298f94afd88fc2f8f78eabe3d",
            "b8bb9db256f0494badd99619f3f4f4b2",
            "bfe6c54ec0854ed88e3c8adb868e4ba6",
            "00318bdea5994199a9ba30cf75eb781b",
            "dd5ed86965d4453795b2a439e55698a8",
            "5ec24c14705b4591a11610c4e380eb49",
            "cc6b299a8ea84fa19ba7778148efab55",
            "b9f5b3de62084ba0a03dd94c5bb7c828",
            "36a33793529142c6b68185ad05fb2138",
            "5c7081f31510410f955dc2df8dac0a58",
            "46a9af462fd44fa0b361ebc0f0b3b07c",
            "314a2674fa4c4c94a588f01517ddb60f",
            "30232b5b1233401887ac76ef5a0db348",
            "d066b83affe341bf8dc357f91cb3c46a",
            "c5dc2da0fa954c2b96137570aaaa3c5a",
            "66b494a2ddf34d27aa06e6f0c860bf60",
            "dfcbf8bb01dd4bcb97adb1b35662ed16",
            "15d3d6c55d97491e9703c59a66421bff",
            "ede8ebfbd90f49dbabdcd813a807bc6f",
            "29884a4c2a834fefbba97928125e4b7b",
            "30c1e762faec4272b32b8f2f25b0f6a2",
            "994c9767413144189c268badeaefff67",
            "1fe9d5b4e8394d6b99b66bfea4d5d09d",
            "13dc7c93b18a4ecfbcf45ce6ede51809",
            "afa01cc783f44b8c8c5423c9f30ab75b",
            "e25ada1b6f864eb7b9fdc549c9152e8a",
            "28ea15c85a754386a5d81cb0d499c4e4",
            "aa91b2d0ecdf4b7db5ba7d4d847172fa",
            "c4d78b71bc2449c5bf35fd36a616916b",
            "4cd40e00e0bd4f5fae164e6c450be3b4",
            "4604825aedb149ed9b8ce402736ca3e4",
            "494e3a0158bc450aa5933135c26e7105",
            "6e10f0e33a5d43929372240e7c121c77",
            "58f7385eca28405384c43d517cb031d3",
            "c580c2f843c14c89862db77b2847067b",
            "5fcd80f468f84288bc334797a44af65c",
            "c701d1e4dc204bddb0134e664cb3bc0f",
            "de35abcea0704925bb1614e15d8ead22",
            "fe96c17592c9454aa4397dfcff70b141",
            "70371f73c5254e0f86ff8f41f9039479",
            "a98afd0be2c34114864090291324847f",
            "2124d00646324b5fbd0fb0c67aabe477",
            "b21b82e7a66749ad84b1769ae2ea17cf",
            "fb3669af2b11478d8a150b4bba5b01d8",
            "4b64eaa3897e402c9bbc37a50f0fd327",
            "99e6539a29874102beabe96a0a2b96ea",
            "d40093d11ed4442892ab0098eabac863",
            "ff8efa053f7b43148ae35405a30903c5",
            "b8a2b3681bae429f88ae106ee55f1bc8",
            "c0425e0d5e0a4163b0e75f0bb49d0461",
            "08a6b6b16b044f098d53ec726146a701",
            "54e0e8fafb2b4fd2a3ee704acb803d6f",
            "d9be62d355a14d2ebe75322c92e31e3b",
            "2cfaa8e297db4189871484d7a2e2ce18",
            "a35629bca4684ba1a72fb115c0da9008",
            "229dbfe2d83f416fb9dd926f045ced98",
            "57f0180f56ac42a2976ef7a247ffa657",
            "831f342da87c4e789819722de6d212f5",
            "8bcec94d4b0f479997694cbd9969e40f",
            "80e1490b9ce444d8a9e3d1201c99784e",
            "558e4856d0dc4207b8cce7dc0bf2ee74",
            "c9d38388dcb34caa8a1498dcd1c062ce",
            "d70e6b0c0e894806b3f2f8f82893a1c7",
            "0a23fe2760874b16ab1ef021e75bfcb6",
            "2e7adfad8f0e477cac1600fd8cb3059b",
            "ec06281e127147a888b4e2bda1bd43eb",
            "73501394ba9840fa95f2329ab8806afb",
            "07b1bd73011446f6b05b03b3d50b1149",
            "c544daaf184048558796f8fb11bf2a54",
            "2f832cce369d443fb9509f045fa51d88",
            "e2de21657cfd42378cd537289b54d7e2",
            "50c0b690bcc941fbaded71be69a838c1",
            "a06de58c4c054605892f1b1676cf6fbb",
            "028a7a33083b4959a8994fef5056bf36",
            "d514c3e7640f4b5eb6b38e24803d23f9",
            "112e61a4366e46119ed9d598a8f149ff"
          ]
        },
        "id": "xmfazfA2WP-6",
        "outputId": "68060df5-22db-4294-95a7-b64713ec4366"
      },
      "outputs": [
        {
          "data": {
            "application/vnd.jupyter.widget-view+json": {
              "model_id": "d4231a90c05b43c48f0dc43c44bf4894",
              "version_major": 2,
              "version_minor": 0
            },
            "text/plain": [
              "Downloading:   0%|          | 0.00/543 [00:00<?, ?B/s]"
            ]
          },
          "metadata": {},
          "output_type": "display_data"
        },
        {
          "data": {
            "application/vnd.jupyter.widget-view+json": {
              "model_id": "04e7173438d3420c84bce97f04aff9cd",
              "version_major": 2,
              "version_minor": 0
            },
            "text/plain": [
              "Fetching 16 files:   0%|          | 0/16 [00:00<?, ?it/s]"
            ]
          },
          "metadata": {},
          "output_type": "display_data"
        },
        {
          "data": {
            "application/vnd.jupyter.widget-view+json": {
              "model_id": "e82575dcc1f745a5861fd19ce344bbad",
              "version_major": 2,
              "version_minor": 0
            },
            "text/plain": [
              "Downloading:   0%|          | 0.00/342 [00:00<?, ?B/s]"
            ]
          },
          "metadata": {},
          "output_type": "display_data"
        },
        {
          "data": {
            "application/vnd.jupyter.widget-view+json": {
              "model_id": "26b653e92c5349dba38ceb2bf54bdef7",
              "version_major": 2,
              "version_minor": 0
            },
            "text/plain": [
              "Downloading:   0%|          | 0.00/4.63k [00:00<?, ?B/s]"
            ]
          },
          "metadata": {},
          "output_type": "display_data"
        },
        {
          "data": {
            "application/vnd.jupyter.widget-view+json": {
              "model_id": "b81dc3f628c64ab8ad3924517f3b7721",
              "version_major": 2,
              "version_minor": 0
            },
            "text/plain": [
              "Downloading:   0%|          | 0.00/608M [00:00<?, ?B/s]"
            ]
          },
          "metadata": {},
          "output_type": "display_data"
        },
        {
          "data": {
            "application/vnd.jupyter.widget-view+json": {
              "model_id": "393d8976581e479982dc053e87a05ad0",
              "version_major": 2,
              "version_minor": 0
            },
            "text/plain": [
              "Downloading:   0%|          | 0.00/209 [00:00<?, ?B/s]"
            ]
          },
          "metadata": {},
          "output_type": "display_data"
        },
        {
          "data": {
            "application/vnd.jupyter.widget-view+json": {
              "model_id": "57cee31c66174c4d827f56a0b0230c7d",
              "version_major": 2,
              "version_minor": 0
            },
            "text/plain": [
              "Downloading:   0%|          | 0.00/209 [00:00<?, ?B/s]"
            ]
          },
          "metadata": {},
          "output_type": "display_data"
        },
        {
          "data": {
            "application/vnd.jupyter.widget-view+json": {
              "model_id": "6286a4c7487048e5904376ea5ef4b2ec",
              "version_major": 2,
              "version_minor": 0
            },
            "text/plain": [
              "Downloading:   0%|          | 0.00/572 [00:00<?, ?B/s]"
            ]
          },
          "metadata": {},
          "output_type": "display_data"
        },
        {
          "data": {
            "application/vnd.jupyter.widget-view+json": {
              "model_id": "13e76bf6ad4947ad9f0cf0d369c2b5e5",
              "version_major": 2,
              "version_minor": 0
            },
            "text/plain": [
              "Downloading:   0%|          | 0.00/246M [00:00<?, ?B/s]"
            ]
          },
          "metadata": {},
          "output_type": "display_data"
        },
        {
          "data": {
            "application/vnd.jupyter.widget-view+json": {
              "model_id": "e27ae0ada2304b77821623f2a8398ac3",
              "version_major": 2,
              "version_minor": 0
            },
            "text/plain": [
              "Downloading:   0%|          | 0.00/525k [00:00<?, ?B/s]"
            ]
          },
          "metadata": {},
          "output_type": "display_data"
        },
        {
          "data": {
            "application/vnd.jupyter.widget-view+json": {
              "model_id": "219f9ddd1f3d48c1b972fb0b6bd99fd1",
              "version_major": 2,
              "version_minor": 0
            },
            "text/plain": [
              "Downloading:   0%|          | 0.00/472 [00:00<?, ?B/s]"
            ]
          },
          "metadata": {},
          "output_type": "display_data"
        },
        {
          "data": {
            "application/vnd.jupyter.widget-view+json": {
              "model_id": "46a9af462fd44fa0b361ebc0f0b3b07c",
              "version_major": 2,
              "version_minor": 0
            },
            "text/plain": [
              "Downloading:   0%|          | 0.00/788 [00:00<?, ?B/s]"
            ]
          },
          "metadata": {},
          "output_type": "display_data"
        },
        {
          "data": {
            "application/vnd.jupyter.widget-view+json": {
              "model_id": "994c9767413144189c268badeaefff67",
              "version_major": 2,
              "version_minor": 0
            },
            "text/plain": [
              "Downloading:   0%|          | 0.00/1.06M [00:00<?, ?B/s]"
            ]
          },
          "metadata": {},
          "output_type": "display_data"
        },
        {
          "data": {
            "application/vnd.jupyter.widget-view+json": {
              "model_id": "6e10f0e33a5d43929372240e7c121c77",
              "version_major": 2,
              "version_minor": 0
            },
            "text/plain": [
              "Downloading:   0%|          | 0.00/772 [00:00<?, ?B/s]"
            ]
          },
          "metadata": {},
          "output_type": "display_data"
        },
        {
          "data": {
            "application/vnd.jupyter.widget-view+json": {
              "model_id": "fb3669af2b11478d8a150b4bba5b01d8",
              "version_major": 2,
              "version_minor": 0
            },
            "text/plain": [
              "Downloading:   0%|          | 0.00/1.72G [00:00<?, ?B/s]"
            ]
          },
          "metadata": {},
          "output_type": "display_data"
        },
        {
          "data": {
            "application/vnd.jupyter.widget-view+json": {
              "model_id": "a35629bca4684ba1a72fb115c0da9008",
              "version_major": 2,
              "version_minor": 0
            },
            "text/plain": [
              "Downloading:   0%|          | 0.00/550 [00:00<?, ?B/s]"
            ]
          },
          "metadata": {},
          "output_type": "display_data"
        },
        {
          "data": {
            "application/vnd.jupyter.widget-view+json": {
              "model_id": "ec06281e127147a888b4e2bda1bd43eb",
              "version_major": 2,
              "version_minor": 0
            },
            "text/plain": [
              "Downloading:   0%|          | 0.00/167M [00:00<?, ?B/s]"
            ]
          },
          "metadata": {},
          "output_type": "display_data"
        }
      ],
      "source": [
        "### Load pretrained StableDifussion model\n",
        "import torch\n",
        "from diffusers import StableDiffusionPipeline\n",
        "pipe = StableDiffusionPipeline.from_pretrained(\"CompVis/stable-diffusion-v1-4\", revision=\"fp16\", torch_dtype=torch.float16,\n",
        "                                               use_auth_token = os.getenv('HUGGINGFACE_API_KEY'))"
      ]
    },
    {
      "cell_type": "code",
      "execution_count": null,
      "metadata": {
        "colab": {
          "base_uri": "https://localhost:8080/"
        },
        "id": "_6pC0HnCVXN_",
        "outputId": "c4a8c163-8940-407d-d389-b0d38db7a789"
      },
      "outputs": [
        {
          "name": "stdout",
          "output_type": "stream",
          "text": [
            "Tue Dec  6 09:11:35 2022       \n",
            "+-----------------------------------------------------------------------------+\n",
            "| NVIDIA-SMI 460.32.03    Driver Version: 460.32.03    CUDA Version: 11.2     |\n",
            "|-------------------------------+----------------------+----------------------+\n",
            "| GPU  Name        Persistence-M| Bus-Id        Disp.A | Volatile Uncorr. ECC |\n",
            "| Fan  Temp  Perf  Pwr:Usage/Cap|         Memory-Usage | GPU-Util  Compute M. |\n",
            "|                               |                      |               MIG M. |\n",
            "|===============================+======================+======================|\n",
            "|   0  Tesla T4            Off  | 00000000:00:04.0 Off |                    0 |\n",
            "| N/A   56C    P8    10W /  70W |      3MiB / 15109MiB |      0%      Default |\n",
            "|                               |                      |                  N/A |\n",
            "+-------------------------------+----------------------+----------------------+\n",
            "                                                                               \n",
            "+-----------------------------------------------------------------------------+\n",
            "| Processes:                                                                  |\n",
            "|  GPU   GI   CI        PID   Type   Process name                  GPU Memory |\n",
            "|        ID   ID                                                   Usage      |\n",
            "|=============================================================================|\n",
            "|  No running processes found                                                 |\n",
            "+-----------------------------------------------------------------------------+\n"
          ]
        }
      ],
      "source": [
        "## CHECK GPU\n",
        "!nvidia-smi"
      ]
    },
    {
      "cell_type": "code",
      "execution_count": null,
      "metadata": {
        "id": "8wQ0KwC7WWFr"
      },
      "outputs": [],
      "source": [
        "pipe = pipe.to(\"cuda\")"
      ]
    },
    {
      "cell_type": "code",
      "execution_count": null,
      "metadata": {
        "id": "AoRdU1H7WnIm"
      },
      "outputs": [],
      "source": [
        "## Disable progress bar, globally\n",
        "from tqdm import tqdm\n",
        "from functools import partialmethod\n",
        "tqdm.__init__ = partialmethod(tqdm.__init__, disable=True)\n",
        "\n",
        "## Get image from prompt\n",
        "def get_image_from_prompt(prompt: str):\n",
        "  pipe.set_progress_bar_config()\n",
        "  image = pipe(prompt).images[0]  # image here is in [PIL format](https://pillow.readthedocs.io/en/stable/)\n",
        "  # Now to display an image you can do either save it such as:\n",
        "  image.save(f\"output.png\")\n",
        "  return \"output.png\""
      ]
    },
    {
      "cell_type": "code",
      "execution_count": null,
      "metadata": {
        "id": "PARFJ1eCXhDx"
      },
      "outputs": [],
      "source": [
        "from IPython.display import HTML, Image, display"
      ]
    },
    {
      "cell_type": "code",
      "execution_count": null,
      "metadata": {
        "id": "C_Bzb0JfNoQG"
      },
      "outputs": [],
      "source": [
        "def set_css():\n",
        "  display(HTML('''\n",
        "  <style>\n",
        "    pre {\n",
        "        white-space: pre-wrap;\n",
        "    }\n",
        "  </style>\n",
        "  '''))\n",
        "get_ipython().events.register('pre_run_cell', set_css)\n",
        "\n"
      ]
    },
    {
      "cell_type": "code",
      "execution_count": null,
      "metadata": {
        "colab": {
          "base_uri": "https://localhost:8080/",
          "height": 17
        },
        "id": "-qKdKihYED_c",
        "outputId": "c2962c10-e011-4dde-f403-1d9da9ed8a09"
      },
      "outputs": [
        {
          "data": {
            "text/html": [
              "\n",
              "  <style>\n",
              "    pre {\n",
              "        white-space: pre-wrap;\n",
              "    }\n",
              "  </style>\n",
              "  "
            ],
            "text/plain": [
              "<IPython.core.display.HTML object>"
            ]
          },
          "metadata": {},
          "output_type": "display_data"
        }
      ],
      "source": [
        "import os\n",
        "import openai\n",
        "import json\n",
        "\n",
        "openai.api_key = os.getenv(\"OPENAI_API_KEY\")\n",
        "start_sequence = \"\\nAI:\"\n",
        "restart_sequence = \"\\nHuman: \"\n",
        "\n",
        "def get_completion(prompt : str):\n",
        "  #print(\"\\n*******\\nDEBUG request: \" + str(prompt))\n",
        "  \n",
        "  response = openai.Completion.create(\n",
        "    prompt = prompt,\n",
        "    model=\"text-davinci-003\",\n",
        "    temperature=0.9,\n",
        "    max_tokens=150,\n",
        "    top_p=1,\n",
        "    frequency_penalty=0.0,\n",
        "    presence_penalty=0.6,\n",
        "    #stream = True,\n",
        "    stop=[\" Human:\", \" AI:\"]\n",
        "  )\n",
        "  #print(\"DEBUG response: \" + str(response))\n",
        "  try:\n",
        "    obj = json.loads(str(response))\n",
        "    ret = str(obj[\"choices\"][0][\"text\"])\n",
        "  except Exception as e:\n",
        "    print(\"Inner exception! \" + str(e))\n",
        "    ret = \"\"\n",
        "  #print(\"\\n**********\\nDEBUG ret: \" + ret)\n",
        "  return ret\n"
      ]
    },
    {
      "cell_type": "code",
      "execution_count": null,
      "metadata": {
        "colab": {
          "base_uri": "https://localhost:8080/",
          "height": 17
        },
        "id": "eNBxLNZPupc9",
        "outputId": "358402fe-0a7c-4b79-fce5-56f90ef73ec9"
      },
      "outputs": [
        {
          "data": {
            "text/html": [
              "\n",
              "  <style>\n",
              "    pre {\n",
              "        white-space: pre-wrap;\n",
              "    }\n",
              "  </style>\n",
              "  "
            ],
            "text/plain": [
              "<IPython.core.display.HTML object>"
            ]
          },
          "metadata": {},
          "output_type": "display_data"
        }
      ],
      "source": [
        "import sys\n",
        "\n",
        "def eprint(*args, **kwargs):\n",
        "    print(*args, file=sys.stderr, **kwargs)"
      ]
    },
    {
      "cell_type": "code",
      "execution_count": null,
      "metadata": {
        "colab": {
          "base_uri": "https://localhost:8080/"
        },
        "id": "ebKlOWt8QkKo",
        "outputId": "40bb176d-0980-47bb-aeb7-af9a734fae74"
      },
      "outputs": [
        {
          "name": "stdout",
          "output_type": "stream",
          "text": [
            "Writing app.py\n"
          ]
        }
      ],
      "source": [
        "%%writefile app.py\n",
        "\n",
        "from flask import Flask, request\n",
        "from PIL import Image\n",
        "import hashlib\n",
        "import os\n",
        "\n",
        "app = Flask(__name__)\n",
        "\n",
        "def calculate_sha256(text):\n",
        "    # Encode the text as bytes\n",
        "    text_bytes = text.encode('utf-8')\n",
        "\n",
        "    # Create a SHA256 hash object\n",
        "    sha256_hash = hashlib.sha256()\n",
        "\n",
        "    # Update the hash with the text bytes\n",
        "    sha256_hash.update(text_bytes)\n",
        "\n",
        "    # Get the hexadecimal digest of the hash\n",
        "    hex_digest = sha256_hash.hexdigest()\n",
        "\n",
        "    return hex_digest\n",
        "\n",
        "@app.route('/api/completion/text', methods=['POST'])\n",
        "def get_completion_text():\n",
        "    # Get the prompt from the request\n",
        "    prompt = request.form['prompt']\n",
        "    response = \"Response to \" + prompt\n",
        "    return response\n",
        "\n",
        "@app.route('/api/completion/image', methods=['POST'])\n",
        "def get_completion_image():\n",
        "\n",
        "    # Get the prompt from the request\n",
        "    prompt = request.form['prompt']\n",
        "\n",
        "    ### FIXME\n",
        "    response = \"Response to \" + prompt\n",
        "\n",
        "    # Use the text to find a matching image - it may be cached\n",
        "    image = find_matching_image(response)\n",
        "\n",
        "    # Return the image in the response\n",
        "    return send_file(image, mimetype='image/png')\n",
        "\n",
        "def find_matching_image(text):\n",
        "\n",
        "    # Get the hash of the image\n",
        "    text_hash = calculate_sha256(text)\n",
        "    filename = text_hash + \".png\"\n",
        "    if os.path.isfile(filename):\n",
        "      return Image.open(filename)\n",
        "    else:\n",
        "      # Calculate!\n",
        "      \n",
        "\n",
        "if __name__ == '__main__':\n",
        "    app.run()"
      ]
    },
    {
      "cell_type": "code",
      "execution_count": null,
      "metadata": {
        "id": "fBpe_T9QMPwp"
      },
      "outputs": [],
      "source": [
        "import traceback\n",
        "\n",
        "try:\n",
        "  print(\"TO EXIT, TYPE: quit\")\n",
        "  prompts = \"I want you to act as if you are a classic text adventure game and we are playing. I don’t want you to ever break out of your character, and you must not refer to yourself in any way. If I want to give you instructions outside the context of the game, I will use curly brackets {like this} but otherwise you are to stick to being the text adventure program. In this game, the setting is a fantasy adventure world. Each room should have at least 3 sentence descriptions. Start by displaying the first room at the beginning of the game, and wait for my to give you my first command.\"\n",
        "  #print(prompts)\n",
        "  while True:\n",
        "    ret = str(get_completion(prompts))\n",
        "    image = get_image_from_prompt(ret)\n",
        "    display(Image(filename=image))\n",
        "    display(HTML(\"<b>\"+ret+\"</b>\"))\n",
        "    eprint(ret)\n",
        "    \n",
        "    prompts += start_sequence + ret + restart_sequence\n",
        "    p = input(restart_sequence)\n",
        "    if p == \"quit\":\n",
        "      print(\"... finishing game!\")\n",
        "      break\n",
        "    prompts += p # restart_sequence + p ?\n",
        "    \n",
        "except Exception as e:\n",
        "  print(traceback.format_exc())\n",
        "  #print(\"Exception!\")\n",
        "  #print(str(e))\n",
        "  #pass\n"
      ]
    },
    {
      "cell_type": "code",
      "execution_count": null,
      "metadata": {
        "id": "MjrLWlOjBO7e"
      },
      "outputs": [],
      "source": [
        "get_ipython().system_raw('python3 app.py &')"
      ]
    },
    {
      "cell_type": "code",
      "execution_count": null,
      "metadata": {
        "id": "LubrQoemBQip"
      },
      "outputs": [],
      "source": [
        "get_ipython().system_raw('./ngrok http 5000 &')"
      ]
    },
    {
      "cell_type": "markdown",
      "metadata": {
        "id": "KUjcWgFKBWtn"
      },
      "source": [
        "# **Show the ngrok tunnel IP**"
      ]
    },
    {
      "cell_type": "code",
      "execution_count": null,
      "metadata": {
        "colab": {
          "base_uri": "https://localhost:8080/"
        },
        "id": "IVG-gFZZBaRk",
        "outputId": "1ab5d3dc-8702-4ea4-8db3-7fe7131bef53"
      },
      "outputs": [
        {
          "name": "stdout",
          "output_type": "stream",
          "text": [
            "https://8227-35-222-195-153.ngrok.io\n"
          ]
        }
      ],
      "source": [
        "! curl -s http://localhost:4040/api/tunnels | python3 -c \\\n",
        "    \"import sys, json; print(json.load(sys.stdin)['tunnels'][0]['public_url'])\""
      ]
    }
  ],
  "metadata": {
    "colab": {
      "include_colab_link": true,
      "provenance": []
    },
    "kernelspec": {
      "display_name": "Python 3",
      "language": "python",
      "name": "python3"
    },
    "language_info": {
      "name": "python",
      "version": "3.8.13 (default, Oct  4 2022, 14:00:32) \n[GCC 9.4.0]"
    },
    "vscode": {
      "interpreter": {
        "hash": "9ac03a0a6051494cc606d484d27d20fce22fb7b4d169f583271e11d5ba46a56e"
      }
    }
  },
  "nbformat": 4,
  "nbformat_minor": 0
}
